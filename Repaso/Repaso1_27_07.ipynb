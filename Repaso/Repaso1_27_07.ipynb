{
 "cells": [
  {
   "cell_type": "markdown",
   "metadata": {},
   "source": [
    "#Repaso 1 27/07"
   ]
  },
  {
   "cell_type": "code",
   "execution_count": 19,
   "metadata": {},
   "outputs": [],
   "source": [
    "from pydataset import data\n",
    "import numpy as np\n",
    "from scipy.stats import skew\n",
    "from scipy import stats \n",
    "import pandas as pd\n",
    "import seaborn as sns\n",
    "import matplotlib.pyplot as plt\n",
    "import scipy.stats as st"
   ]
  },
  {
   "cell_type": "markdown",
   "metadata": {},
   "source": [
    "Al igual que en los ejercicios de pair programming de estadística, deberéis elegir un set de datos, puede ser de cualquier tipo. El objetivo de este pair programming es:\n",
    "Hacer una exploración inicial del dataframe.\n",
    "¿Cuántas filas tiene?\n",
    "¿Cuántas nulos tiene?\n",
    "¿Y duplicados?\n",
    "¿Qué tipo de datos tenemos en el dataframe?\n",
    "etc.\n",
    "Plantead una serie de preguntas como las que fuimos contestando en la clase invertida.\n",
    "Contestad a las preguntas planteadas usando los principales estadísticos que hemos aprendido y gráficas que mejor se ajusten."
   ]
  },
  {
   "cell_type": "markdown",
   "metadata": {},
   "source": [
    "Primero abrimos el archivo."
   ]
  },
  {
   "cell_type": "code",
   "execution_count": 20,
   "metadata": {},
   "outputs": [
    {
     "name": "stderr",
     "output_type": "stream",
     "text": [
      "/var/folders/cf/7kf7s8j17wn53znl0ywm912w0000gp/T/ipykernel_6197/3873383618.py:1: DtypeWarning: Columns (17) have mixed types. Specify dtype option on import or set low_memory=False.\n",
      "  df = pd.read_csv(\"data/NYC-Airbnb-2023.csv\")\n"
     ]
    },
    {
     "data": {
      "text/html": [
       "<div>\n",
       "<style scoped>\n",
       "    .dataframe tbody tr th:only-of-type {\n",
       "        vertical-align: middle;\n",
       "    }\n",
       "\n",
       "    .dataframe tbody tr th {\n",
       "        vertical-align: top;\n",
       "    }\n",
       "\n",
       "    .dataframe thead th {\n",
       "        text-align: right;\n",
       "    }\n",
       "</style>\n",
       "<table border=\"1\" class=\"dataframe\">\n",
       "  <thead>\n",
       "    <tr style=\"text-align: right;\">\n",
       "      <th></th>\n",
       "      <th>id</th>\n",
       "      <th>name</th>\n",
       "      <th>host_id</th>\n",
       "      <th>host_name</th>\n",
       "      <th>neighbourhood_group</th>\n",
       "      <th>neighbourhood</th>\n",
       "      <th>latitude</th>\n",
       "      <th>longitude</th>\n",
       "      <th>room_type</th>\n",
       "      <th>price</th>\n",
       "      <th>minimum_nights</th>\n",
       "      <th>number_of_reviews</th>\n",
       "      <th>last_review</th>\n",
       "      <th>reviews_per_month</th>\n",
       "      <th>calculated_host_listings_count</th>\n",
       "      <th>availability_365</th>\n",
       "      <th>number_of_reviews_ltm</th>\n",
       "      <th>license</th>\n",
       "    </tr>\n",
       "  </thead>\n",
       "  <tbody>\n",
       "    <tr>\n",
       "      <th>0</th>\n",
       "      <td>2595</td>\n",
       "      <td>Skylit Midtown Castle</td>\n",
       "      <td>2845</td>\n",
       "      <td>Jennifer</td>\n",
       "      <td>Manhattan</td>\n",
       "      <td>Midtown</td>\n",
       "      <td>40.75356</td>\n",
       "      <td>-73.98559</td>\n",
       "      <td>Entire home/apt</td>\n",
       "      <td>150</td>\n",
       "      <td>30</td>\n",
       "      <td>49</td>\n",
       "      <td>2022-06-21</td>\n",
       "      <td>0.30</td>\n",
       "      <td>3</td>\n",
       "      <td>314</td>\n",
       "      <td>1</td>\n",
       "      <td>NaN</td>\n",
       "    </tr>\n",
       "    <tr>\n",
       "      <th>1</th>\n",
       "      <td>5121</td>\n",
       "      <td>BlissArtsSpace!</td>\n",
       "      <td>7356</td>\n",
       "      <td>Garon</td>\n",
       "      <td>Brooklyn</td>\n",
       "      <td>Bedford-Stuyvesant</td>\n",
       "      <td>40.68535</td>\n",
       "      <td>-73.95512</td>\n",
       "      <td>Private room</td>\n",
       "      <td>60</td>\n",
       "      <td>30</td>\n",
       "      <td>50</td>\n",
       "      <td>2019-12-02</td>\n",
       "      <td>0.30</td>\n",
       "      <td>2</td>\n",
       "      <td>365</td>\n",
       "      <td>0</td>\n",
       "      <td>NaN</td>\n",
       "    </tr>\n",
       "    <tr>\n",
       "      <th>2</th>\n",
       "      <td>5203</td>\n",
       "      <td>Cozy Clean Guest Room - Family Apt</td>\n",
       "      <td>7490</td>\n",
       "      <td>MaryEllen</td>\n",
       "      <td>Manhattan</td>\n",
       "      <td>Upper West Side</td>\n",
       "      <td>40.80380</td>\n",
       "      <td>-73.96751</td>\n",
       "      <td>Private room</td>\n",
       "      <td>75</td>\n",
       "      <td>2</td>\n",
       "      <td>118</td>\n",
       "      <td>2017-07-21</td>\n",
       "      <td>0.72</td>\n",
       "      <td>1</td>\n",
       "      <td>0</td>\n",
       "      <td>0</td>\n",
       "      <td>NaN</td>\n",
       "    </tr>\n",
       "    <tr>\n",
       "      <th>3</th>\n",
       "      <td>5178</td>\n",
       "      <td>Large Furnished Room Near B'way</td>\n",
       "      <td>8967</td>\n",
       "      <td>Shunichi</td>\n",
       "      <td>Manhattan</td>\n",
       "      <td>Midtown</td>\n",
       "      <td>40.76457</td>\n",
       "      <td>-73.98317</td>\n",
       "      <td>Private room</td>\n",
       "      <td>68</td>\n",
       "      <td>2</td>\n",
       "      <td>575</td>\n",
       "      <td>2023-02-19</td>\n",
       "      <td>3.41</td>\n",
       "      <td>1</td>\n",
       "      <td>106</td>\n",
       "      <td>52</td>\n",
       "      <td>NaN</td>\n",
       "    </tr>\n",
       "    <tr>\n",
       "      <th>4</th>\n",
       "      <td>5136</td>\n",
       "      <td>Large Sunny Brooklyn Duplex, Patio + Garden</td>\n",
       "      <td>7378</td>\n",
       "      <td>Rebecca</td>\n",
       "      <td>Brooklyn</td>\n",
       "      <td>Sunset Park</td>\n",
       "      <td>40.66265</td>\n",
       "      <td>-73.99454</td>\n",
       "      <td>Entire home/apt</td>\n",
       "      <td>275</td>\n",
       "      <td>60</td>\n",
       "      <td>3</td>\n",
       "      <td>2022-08-10</td>\n",
       "      <td>0.03</td>\n",
       "      <td>1</td>\n",
       "      <td>181</td>\n",
       "      <td>1</td>\n",
       "      <td>NaN</td>\n",
       "    </tr>\n",
       "  </tbody>\n",
       "</table>\n",
       "</div>"
      ],
      "text/plain": [
       "     id                                         name  host_id  host_name  \\\n",
       "0  2595                        Skylit Midtown Castle     2845   Jennifer   \n",
       "1  5121                              BlissArtsSpace!     7356      Garon   \n",
       "2  5203           Cozy Clean Guest Room - Family Apt     7490  MaryEllen   \n",
       "3  5178             Large Furnished Room Near B'way　     8967   Shunichi   \n",
       "4  5136  Large Sunny Brooklyn Duplex, Patio + Garden     7378    Rebecca   \n",
       "\n",
       "  neighbourhood_group       neighbourhood  latitude  longitude  \\\n",
       "0           Manhattan             Midtown  40.75356  -73.98559   \n",
       "1            Brooklyn  Bedford-Stuyvesant  40.68535  -73.95512   \n",
       "2           Manhattan     Upper West Side  40.80380  -73.96751   \n",
       "3           Manhattan             Midtown  40.76457  -73.98317   \n",
       "4            Brooklyn         Sunset Park  40.66265  -73.99454   \n",
       "\n",
       "         room_type  price  minimum_nights  number_of_reviews last_review  \\\n",
       "0  Entire home/apt    150              30                 49  2022-06-21   \n",
       "1     Private room     60              30                 50  2019-12-02   \n",
       "2     Private room     75               2                118  2017-07-21   \n",
       "3     Private room     68               2                575  2023-02-19   \n",
       "4  Entire home/apt    275              60                  3  2022-08-10   \n",
       "\n",
       "   reviews_per_month  calculated_host_listings_count  availability_365  \\\n",
       "0               0.30                               3               314   \n",
       "1               0.30                               2               365   \n",
       "2               0.72                               1                 0   \n",
       "3               3.41                               1               106   \n",
       "4               0.03                               1               181   \n",
       "\n",
       "   number_of_reviews_ltm license  \n",
       "0                      1     NaN  \n",
       "1                      0     NaN  \n",
       "2                      0     NaN  \n",
       "3                     52     NaN  \n",
       "4                      1     NaN  "
      ]
     },
     "execution_count": 20,
     "metadata": {},
     "output_type": "execute_result"
    }
   ],
   "source": [
    "df = pd.read_csv(\"data/NYC-Airbnb-2023.csv\")\n",
    "df.head()"
   ]
  },
  {
   "cell_type": "markdown",
   "metadata": {},
   "source": [
    "Creamos una función que para saber las propiedades del dataframe."
   ]
  },
  {
   "cell_type": "code",
   "execution_count": 21,
   "metadata": {},
   "outputs": [],
   "source": [
    "def propiedades(dataframe):\n",
    "    \"\"\"\n",
    "   Esta función printea en pantalla todas las propiedades del dataframe.\n",
    "  Args: \n",
    "       dataframe(dataframe): el dataframe del cual queremos saber sus propiedades.\n",
    "   Returns: aunque no tiene return, esta printea en pantalla todas las propiedades del dataframe.\n",
    "   \"\"\"\n",
    "    print(\"El número de filas y columnas es:\", dataframe.shape)\n",
    "    print(\".......................................\")\n",
    "    print(\"Los nulos y el tipo de dato son:\")\n",
    "    display(dataframe.info())\n",
    "    print(\".......................................\")\n",
    "    print(\"Los principios estadísticos son:\")\n",
    "    display(dataframe.describe(include = \"all\"))\n",
    "    print(\".......................................\")\n",
    "    print(\"El número de duplicados son:\", dataframe.duplicated().sum())\n",
    "    print(\".......................................\")\n",
    "   \n",
    "\n",
    "    for columna in dataframe.columns:\n",
    "        print(\"El número de valores únicos de la columna\",columna, \"es:\", len(dataframe[columna].unique()))\n",
    "        print(\"--------------------------------------------------\")\n",
    "        if len(dataframe[columna].unique()) < 6:\n",
    "            print(\"Los valores únicos de la columna\",columna, \"son:\", dataframe[columna].unique())\n",
    "            print(\"**********************************\")"
   ]
  },
  {
   "cell_type": "code",
   "execution_count": 22,
   "metadata": {},
   "outputs": [
    {
     "name": "stdout",
     "output_type": "stream",
     "text": [
      "El número de filas y columnas es: (42931, 18)\n",
      ".......................................\n",
      "Los nulos y el tipo de dato son:\n",
      "<class 'pandas.core.frame.DataFrame'>\n",
      "RangeIndex: 42931 entries, 0 to 42930\n",
      "Data columns (total 18 columns):\n",
      " #   Column                          Non-Null Count  Dtype  \n",
      "---  ------                          --------------  -----  \n",
      " 0   id                              42931 non-null  int64  \n",
      " 1   name                            42919 non-null  object \n",
      " 2   host_id                         42931 non-null  int64  \n",
      " 3   host_name                       42926 non-null  object \n",
      " 4   neighbourhood_group             42931 non-null  object \n",
      " 5   neighbourhood                   42931 non-null  object \n",
      " 6   latitude                        42931 non-null  float64\n",
      " 7   longitude                       42931 non-null  float64\n",
      " 8   room_type                       42931 non-null  object \n",
      " 9   price                           42931 non-null  int64  \n",
      " 10  minimum_nights                  42931 non-null  int64  \n",
      " 11  number_of_reviews               42931 non-null  int64  \n",
      " 12  last_review                     32627 non-null  object \n",
      " 13  reviews_per_month               32627 non-null  float64\n",
      " 14  calculated_host_listings_count  42931 non-null  int64  \n",
      " 15  availability_365                42931 non-null  int64  \n",
      " 16  number_of_reviews_ltm           42931 non-null  int64  \n",
      " 17  license                         1 non-null      object \n",
      "dtypes: float64(3), int64(8), object(7)\n",
      "memory usage: 5.9+ MB\n"
     ]
    },
    {
     "data": {
      "text/plain": [
       "None"
      ]
     },
     "metadata": {},
     "output_type": "display_data"
    },
    {
     "name": "stdout",
     "output_type": "stream",
     "text": [
      ".......................................\n",
      "Los principios estadísticos son:\n"
     ]
    },
    {
     "data": {
      "text/html": [
       "<div>\n",
       "<style scoped>\n",
       "    .dataframe tbody tr th:only-of-type {\n",
       "        vertical-align: middle;\n",
       "    }\n",
       "\n",
       "    .dataframe tbody tr th {\n",
       "        vertical-align: top;\n",
       "    }\n",
       "\n",
       "    .dataframe thead th {\n",
       "        text-align: right;\n",
       "    }\n",
       "</style>\n",
       "<table border=\"1\" class=\"dataframe\">\n",
       "  <thead>\n",
       "    <tr style=\"text-align: right;\">\n",
       "      <th></th>\n",
       "      <th>id</th>\n",
       "      <th>name</th>\n",
       "      <th>host_id</th>\n",
       "      <th>host_name</th>\n",
       "      <th>neighbourhood_group</th>\n",
       "      <th>neighbourhood</th>\n",
       "      <th>latitude</th>\n",
       "      <th>longitude</th>\n",
       "      <th>room_type</th>\n",
       "      <th>price</th>\n",
       "      <th>minimum_nights</th>\n",
       "      <th>number_of_reviews</th>\n",
       "      <th>last_review</th>\n",
       "      <th>reviews_per_month</th>\n",
       "      <th>calculated_host_listings_count</th>\n",
       "      <th>availability_365</th>\n",
       "      <th>number_of_reviews_ltm</th>\n",
       "      <th>license</th>\n",
       "    </tr>\n",
       "  </thead>\n",
       "  <tbody>\n",
       "    <tr>\n",
       "      <th>count</th>\n",
       "      <td>4.293100e+04</td>\n",
       "      <td>42919</td>\n",
       "      <td>4.293100e+04</td>\n",
       "      <td>42926</td>\n",
       "      <td>42931</td>\n",
       "      <td>42931</td>\n",
       "      <td>42931.000000</td>\n",
       "      <td>42931.000000</td>\n",
       "      <td>42931</td>\n",
       "      <td>42931.000000</td>\n",
       "      <td>42931.000000</td>\n",
       "      <td>42931.000000</td>\n",
       "      <td>32627</td>\n",
       "      <td>32627.000000</td>\n",
       "      <td>42931.000000</td>\n",
       "      <td>42931.000000</td>\n",
       "      <td>42931.000000</td>\n",
       "      <td>1</td>\n",
       "    </tr>\n",
       "    <tr>\n",
       "      <th>unique</th>\n",
       "      <td>NaN</td>\n",
       "      <td>41408</td>\n",
       "      <td>NaN</td>\n",
       "      <td>9831</td>\n",
       "      <td>5</td>\n",
       "      <td>223</td>\n",
       "      <td>NaN</td>\n",
       "      <td>NaN</td>\n",
       "      <td>4</td>\n",
       "      <td>NaN</td>\n",
       "      <td>NaN</td>\n",
       "      <td>NaN</td>\n",
       "      <td>2795</td>\n",
       "      <td>NaN</td>\n",
       "      <td>NaN</td>\n",
       "      <td>NaN</td>\n",
       "      <td>NaN</td>\n",
       "      <td>1</td>\n",
       "    </tr>\n",
       "    <tr>\n",
       "      <th>top</th>\n",
       "      <td>NaN</td>\n",
       "      <td>Water View King Bed Hotel Room</td>\n",
       "      <td>NaN</td>\n",
       "      <td>Blueground</td>\n",
       "      <td>Manhattan</td>\n",
       "      <td>Bedford-Stuyvesant</td>\n",
       "      <td>NaN</td>\n",
       "      <td>NaN</td>\n",
       "      <td>Entire home/apt</td>\n",
       "      <td>NaN</td>\n",
       "      <td>NaN</td>\n",
       "      <td>NaN</td>\n",
       "      <td>2023-01-02</td>\n",
       "      <td>NaN</td>\n",
       "      <td>NaN</td>\n",
       "      <td>NaN</td>\n",
       "      <td>NaN</td>\n",
       "      <td>41662/AL</td>\n",
       "    </tr>\n",
       "    <tr>\n",
       "      <th>freq</th>\n",
       "      <td>NaN</td>\n",
       "      <td>30</td>\n",
       "      <td>NaN</td>\n",
       "      <td>526</td>\n",
       "      <td>17658</td>\n",
       "      <td>3086</td>\n",
       "      <td>NaN</td>\n",
       "      <td>NaN</td>\n",
       "      <td>24279</td>\n",
       "      <td>NaN</td>\n",
       "      <td>NaN</td>\n",
       "      <td>NaN</td>\n",
       "      <td>839</td>\n",
       "      <td>NaN</td>\n",
       "      <td>NaN</td>\n",
       "      <td>NaN</td>\n",
       "      <td>NaN</td>\n",
       "      <td>1</td>\n",
       "    </tr>\n",
       "    <tr>\n",
       "      <th>mean</th>\n",
       "      <td>2.222772e+17</td>\n",
       "      <td>NaN</td>\n",
       "      <td>1.516012e+08</td>\n",
       "      <td>NaN</td>\n",
       "      <td>NaN</td>\n",
       "      <td>NaN</td>\n",
       "      <td>40.728273</td>\n",
       "      <td>-73.943665</td>\n",
       "      <td>NaN</td>\n",
       "      <td>200.307167</td>\n",
       "      <td>18.111178</td>\n",
       "      <td>25.856001</td>\n",
       "      <td>NaN</td>\n",
       "      <td>1.168988</td>\n",
       "      <td>24.054809</td>\n",
       "      <td>140.262211</td>\n",
       "      <td>7.736507</td>\n",
       "      <td>NaN</td>\n",
       "    </tr>\n",
       "    <tr>\n",
       "      <th>std</th>\n",
       "      <td>3.344213e+17</td>\n",
       "      <td>NaN</td>\n",
       "      <td>1.621301e+08</td>\n",
       "      <td>NaN</td>\n",
       "      <td>NaN</td>\n",
       "      <td>NaN</td>\n",
       "      <td>0.057640</td>\n",
       "      <td>0.056627</td>\n",
       "      <td>NaN</td>\n",
       "      <td>895.082911</td>\n",
       "      <td>27.462513</td>\n",
       "      <td>56.616344</td>\n",
       "      <td>NaN</td>\n",
       "      <td>1.789675</td>\n",
       "      <td>80.867958</td>\n",
       "      <td>142.001486</td>\n",
       "      <td>18.290256</td>\n",
       "      <td>NaN</td>\n",
       "    </tr>\n",
       "    <tr>\n",
       "      <th>min</th>\n",
       "      <td>2.595000e+03</td>\n",
       "      <td>NaN</td>\n",
       "      <td>1.678000e+03</td>\n",
       "      <td>NaN</td>\n",
       "      <td>NaN</td>\n",
       "      <td>NaN</td>\n",
       "      <td>40.500314</td>\n",
       "      <td>-74.251907</td>\n",
       "      <td>NaN</td>\n",
       "      <td>0.000000</td>\n",
       "      <td>1.000000</td>\n",
       "      <td>0.000000</td>\n",
       "      <td>NaN</td>\n",
       "      <td>0.010000</td>\n",
       "      <td>1.000000</td>\n",
       "      <td>0.000000</td>\n",
       "      <td>0.000000</td>\n",
       "      <td>NaN</td>\n",
       "    </tr>\n",
       "    <tr>\n",
       "      <th>25%</th>\n",
       "      <td>1.940474e+07</td>\n",
       "      <td>NaN</td>\n",
       "      <td>1.608533e+07</td>\n",
       "      <td>NaN</td>\n",
       "      <td>NaN</td>\n",
       "      <td>NaN</td>\n",
       "      <td>40.687485</td>\n",
       "      <td>-73.981750</td>\n",
       "      <td>NaN</td>\n",
       "      <td>75.000000</td>\n",
       "      <td>2.000000</td>\n",
       "      <td>1.000000</td>\n",
       "      <td>NaN</td>\n",
       "      <td>0.140000</td>\n",
       "      <td>1.000000</td>\n",
       "      <td>0.000000</td>\n",
       "      <td>0.000000</td>\n",
       "      <td>NaN</td>\n",
       "    </tr>\n",
       "    <tr>\n",
       "      <th>50%</th>\n",
       "      <td>4.337482e+07</td>\n",
       "      <td>NaN</td>\n",
       "      <td>7.433812e+07</td>\n",
       "      <td>NaN</td>\n",
       "      <td>NaN</td>\n",
       "      <td>NaN</td>\n",
       "      <td>40.724040</td>\n",
       "      <td>-73.952620</td>\n",
       "      <td>NaN</td>\n",
       "      <td>125.000000</td>\n",
       "      <td>7.000000</td>\n",
       "      <td>5.000000</td>\n",
       "      <td>NaN</td>\n",
       "      <td>0.520000</td>\n",
       "      <td>1.000000</td>\n",
       "      <td>89.000000</td>\n",
       "      <td>0.000000</td>\n",
       "      <td>NaN</td>\n",
       "    </tr>\n",
       "    <tr>\n",
       "      <th>75%</th>\n",
       "      <td>6.305016e+17</td>\n",
       "      <td>NaN</td>\n",
       "      <td>2.680692e+08</td>\n",
       "      <td>NaN</td>\n",
       "      <td>NaN</td>\n",
       "      <td>NaN</td>\n",
       "      <td>40.762293</td>\n",
       "      <td>-73.924035</td>\n",
       "      <td>NaN</td>\n",
       "      <td>200.000000</td>\n",
       "      <td>30.000000</td>\n",
       "      <td>24.000000</td>\n",
       "      <td>NaN</td>\n",
       "      <td>1.670000</td>\n",
       "      <td>4.000000</td>\n",
       "      <td>289.000000</td>\n",
       "      <td>7.000000</td>\n",
       "      <td>NaN</td>\n",
       "    </tr>\n",
       "    <tr>\n",
       "      <th>max</th>\n",
       "      <td>8.404660e+17</td>\n",
       "      <td>NaN</td>\n",
       "      <td>5.038729e+08</td>\n",
       "      <td>NaN</td>\n",
       "      <td>NaN</td>\n",
       "      <td>NaN</td>\n",
       "      <td>40.911380</td>\n",
       "      <td>-73.710870</td>\n",
       "      <td>NaN</td>\n",
       "      <td>99000.000000</td>\n",
       "      <td>1250.000000</td>\n",
       "      <td>1842.000000</td>\n",
       "      <td>NaN</td>\n",
       "      <td>86.610000</td>\n",
       "      <td>526.000000</td>\n",
       "      <td>365.000000</td>\n",
       "      <td>1093.000000</td>\n",
       "      <td>NaN</td>\n",
       "    </tr>\n",
       "  </tbody>\n",
       "</table>\n",
       "</div>"
      ],
      "text/plain": [
       "                  id                            name       host_id  \\\n",
       "count   4.293100e+04                           42919  4.293100e+04   \n",
       "unique           NaN                           41408           NaN   \n",
       "top              NaN  Water View King Bed Hotel Room           NaN   \n",
       "freq             NaN                              30           NaN   \n",
       "mean    2.222772e+17                             NaN  1.516012e+08   \n",
       "std     3.344213e+17                             NaN  1.621301e+08   \n",
       "min     2.595000e+03                             NaN  1.678000e+03   \n",
       "25%     1.940474e+07                             NaN  1.608533e+07   \n",
       "50%     4.337482e+07                             NaN  7.433812e+07   \n",
       "75%     6.305016e+17                             NaN  2.680692e+08   \n",
       "max     8.404660e+17                             NaN  5.038729e+08   \n",
       "\n",
       "         host_name neighbourhood_group       neighbourhood      latitude  \\\n",
       "count        42926               42931               42931  42931.000000   \n",
       "unique        9831                   5                 223           NaN   \n",
       "top     Blueground           Manhattan  Bedford-Stuyvesant           NaN   \n",
       "freq           526               17658                3086           NaN   \n",
       "mean           NaN                 NaN                 NaN     40.728273   \n",
       "std            NaN                 NaN                 NaN      0.057640   \n",
       "min            NaN                 NaN                 NaN     40.500314   \n",
       "25%            NaN                 NaN                 NaN     40.687485   \n",
       "50%            NaN                 NaN                 NaN     40.724040   \n",
       "75%            NaN                 NaN                 NaN     40.762293   \n",
       "max            NaN                 NaN                 NaN     40.911380   \n",
       "\n",
       "           longitude        room_type         price  minimum_nights  \\\n",
       "count   42931.000000            42931  42931.000000    42931.000000   \n",
       "unique           NaN                4           NaN             NaN   \n",
       "top              NaN  Entire home/apt           NaN             NaN   \n",
       "freq             NaN            24279           NaN             NaN   \n",
       "mean      -73.943665              NaN    200.307167       18.111178   \n",
       "std         0.056627              NaN    895.082911       27.462513   \n",
       "min       -74.251907              NaN      0.000000        1.000000   \n",
       "25%       -73.981750              NaN     75.000000        2.000000   \n",
       "50%       -73.952620              NaN    125.000000        7.000000   \n",
       "75%       -73.924035              NaN    200.000000       30.000000   \n",
       "max       -73.710870              NaN  99000.000000     1250.000000   \n",
       "\n",
       "        number_of_reviews last_review  reviews_per_month  \\\n",
       "count        42931.000000       32627       32627.000000   \n",
       "unique                NaN        2795                NaN   \n",
       "top                   NaN  2023-01-02                NaN   \n",
       "freq                  NaN         839                NaN   \n",
       "mean            25.856001         NaN           1.168988   \n",
       "std             56.616344         NaN           1.789675   \n",
       "min              0.000000         NaN           0.010000   \n",
       "25%              1.000000         NaN           0.140000   \n",
       "50%              5.000000         NaN           0.520000   \n",
       "75%             24.000000         NaN           1.670000   \n",
       "max           1842.000000         NaN          86.610000   \n",
       "\n",
       "        calculated_host_listings_count  availability_365  \\\n",
       "count                     42931.000000      42931.000000   \n",
       "unique                             NaN               NaN   \n",
       "top                                NaN               NaN   \n",
       "freq                               NaN               NaN   \n",
       "mean                         24.054809        140.262211   \n",
       "std                          80.867958        142.001486   \n",
       "min                           1.000000          0.000000   \n",
       "25%                           1.000000          0.000000   \n",
       "50%                           1.000000         89.000000   \n",
       "75%                           4.000000        289.000000   \n",
       "max                         526.000000        365.000000   \n",
       "\n",
       "        number_of_reviews_ltm   license  \n",
       "count            42931.000000         1  \n",
       "unique                    NaN         1  \n",
       "top                       NaN  41662/AL  \n",
       "freq                      NaN         1  \n",
       "mean                 7.736507       NaN  \n",
       "std                 18.290256       NaN  \n",
       "min                  0.000000       NaN  \n",
       "25%                  0.000000       NaN  \n",
       "50%                  0.000000       NaN  \n",
       "75%                  7.000000       NaN  \n",
       "max               1093.000000       NaN  "
      ]
     },
     "metadata": {},
     "output_type": "display_data"
    },
    {
     "name": "stdout",
     "output_type": "stream",
     "text": [
      ".......................................\n",
      "El número de duplicados son: 0\n",
      ".......................................\n",
      "El número de valores únicos de la columna id es: 42931\n",
      "--------------------------------------------------\n",
      "El número de valores únicos de la columna name es: 41409\n",
      "--------------------------------------------------\n",
      "El número de valores únicos de la columna host_id es: 27455\n",
      "--------------------------------------------------\n",
      "El número de valores únicos de la columna host_name es: 9832\n",
      "--------------------------------------------------\n",
      "El número de valores únicos de la columna neighbourhood_group es: 5\n",
      "--------------------------------------------------\n",
      "Los valores únicos de la columna neighbourhood_group son: ['Manhattan' 'Brooklyn' 'Queens' 'Bronx' 'Staten Island']\n",
      "**********************************\n",
      "El número de valores únicos de la columna neighbourhood es: 223\n",
      "--------------------------------------------------\n",
      "El número de valores únicos de la columna latitude es: 22673\n",
      "--------------------------------------------------\n",
      "El número de valores únicos de la columna longitude es: 20130\n",
      "--------------------------------------------------\n",
      "El número de valores únicos de la columna room_type es: 4\n",
      "--------------------------------------------------\n",
      "Los valores únicos de la columna room_type son: ['Entire home/apt' 'Private room' 'Hotel room' 'Shared room']\n",
      "**********************************\n",
      "El número de valores únicos de la columna price es: 1089\n",
      "--------------------------------------------------\n",
      "El número de valores únicos de la columna minimum_nights es: 128\n",
      "--------------------------------------------------\n",
      "El número de valores únicos de la columna number_of_reviews es: 476\n",
      "--------------------------------------------------\n",
      "El número de valores únicos de la columna last_review es: 2796\n",
      "--------------------------------------------------\n",
      "El número de valores únicos de la columna reviews_per_month es: 882\n",
      "--------------------------------------------------\n",
      "El número de valores únicos de la columna calculated_host_listings_count es: 65\n",
      "--------------------------------------------------\n",
      "El número de valores únicos de la columna availability_365 es: 366\n",
      "--------------------------------------------------\n",
      "El número de valores únicos de la columna number_of_reviews_ltm es: 168\n",
      "--------------------------------------------------\n",
      "El número de valores únicos de la columna license es: 2\n",
      "--------------------------------------------------\n",
      "Los valores únicos de la columna license son: [nan '41662/AL']\n",
      "**********************************\n"
     ]
    }
   ],
   "source": [
    "propiedades(df)"
   ]
  },
  {
   "cell_type": "markdown",
   "metadata": {},
   "source": [
    "Vemos que las columnas tienen pocos nulos y los tipos de datos son muy variados. La columna licence tiene muchos nulos, pero como no lo vamos a utilizar en nuestro analisis no lo borramos. Vemos los otros principios estadísticos de price, que es la columna que vamos a usar."
   ]
  },
  {
   "cell_type": "code",
   "execution_count": 23,
   "metadata": {},
   "outputs": [
    {
     "data": {
      "text/html": [
       "<div>\n",
       "<style scoped>\n",
       "    .dataframe tbody tr th:only-of-type {\n",
       "        vertical-align: middle;\n",
       "    }\n",
       "\n",
       "    .dataframe tbody tr th {\n",
       "        vertical-align: top;\n",
       "    }\n",
       "\n",
       "    .dataframe thead th {\n",
       "        text-align: right;\n",
       "    }\n",
       "</style>\n",
       "<table border=\"1\" class=\"dataframe\">\n",
       "  <thead>\n",
       "    <tr style=\"text-align: right;\">\n",
       "      <th></th>\n",
       "      <th>price</th>\n",
       "    </tr>\n",
       "  </thead>\n",
       "  <tbody>\n",
       "    <tr>\n",
       "      <th>var</th>\n",
       "      <td>801173.418411</td>\n",
       "    </tr>\n",
       "    <tr>\n",
       "      <th>median</th>\n",
       "      <td>125.000000</td>\n",
       "    </tr>\n",
       "  </tbody>\n",
       "</table>\n",
       "</div>"
      ],
      "text/plain": [
       "                price\n",
       "var     801173.418411\n",
       "median     125.000000"
      ]
     },
     "metadata": {},
     "output_type": "display_data"
    }
   ],
   "source": [
    "info = df[[\"price\"]].agg(['var','median'])\n",
    "display(info)"
   ]
  },
  {
   "cell_type": "markdown",
   "metadata": {},
   "source": [
    "Vemos que la varianza es muy alta pero porque sus unidades están al cuadrado. Para poder ver realmente la dispersión en la columna de precio tenemos que ver la desviación estándar, que es 895.082911, lo cual es muy alto, por la posible presencia de outliers."
   ]
  },
  {
   "cell_type": "markdown",
   "metadata": {},
   "source": [
    "Vemos que el precio es muy dispar, por lo que acotamos el rango para un estudio más exhaustivo."
   ]
  },
  {
   "cell_type": "code",
   "execution_count": 24,
   "metadata": {},
   "outputs": [],
   "source": [
    "df_limpio = df[(df[\"price\"] > 0) & (df[\"price\"] < 2500)]"
   ]
  },
  {
   "cell_type": "markdown",
   "metadata": {},
   "source": [
    "Hacemos un historiograma de la columna price para ver su tendencia, añadimos la media y la mediana para ver si varían mucho."
   ]
  },
  {
   "cell_type": "code",
   "execution_count": 25,
   "metadata": {},
   "outputs": [
    {
     "data": {
      "image/png": "[encoded data removed]",
      "text/plain": [
       "<Figure size 432x288 with 1 Axes>"
      ]
     },
     "metadata": {
      "needs_background": "light"
     },
     "output_type": "display_data"
    }
   ],
   "source": [
    "sns.histplot(data=df_limpio, x=\"price\", bins=50, color=\"grey\")\n",
    "plt.axvline(df_limpio[\"price\"].mean(), color='red')\n",
    "plt.axvline(df_limpio['price'].median(), color='orange');"
   ]
  },
  {
   "cell_type": "code",
   "execution_count": 26,
   "metadata": {},
   "outputs": [
    {
     "name": "stdout",
     "output_type": "stream",
     "text": [
      "4.653210108684269\n"
     ]
    }
   ],
   "source": [
    "skewness = skew(df_limpio['price'])\n",
    "print(skewness)"
   ]
  },
  {
   "cell_type": "markdown",
   "metadata": {},
   "source": [
    "Como vemos tanto en el histograma como en el skew (positivo), los datos de la columna price están sesgados a la derecha. Además, la media(línea roja) y la mediana (línea naranja) están muy separadas entre sí. Esto se debe a que una media puede estar influenciada por los outliers. Esto puede ser el resultado de que nuestros datos presenten mucha dispersión debido entre otros motivos a  la presencia de outliers, lo que podría implicar que nuestros datos tienen una gran dispersión. "
   ]
  },
  {
   "cell_type": "markdown",
   "metadata": {},
   "source": [
    "Calculamos el intervalo de confianza al 95% de la columna precio."
   ]
  },
  {
   "cell_type": "code",
   "execution_count": 27,
   "metadata": {},
   "outputs": [
    {
     "name": "stdout",
     "output_type": "stream",
     "text": [
      "(176.86872381624627, 180.6795908955484)\n",
      "178.77415735589733\n"
     ]
    }
   ],
   "source": [
    "data = df_limpio['price']\n",
    "print(st.t.interval(alpha=0.95, df=len(data)-1, loc=np.mean(data), scale=st.sem(data)))\n",
    "print(np.mean(data))"
   ]
  },
  {
   "cell_type": "markdown",
   "metadata": {},
   "source": [
    "Como vemos, el intervalo de confianza es muy pequeño, por lo que nos da a entender que hay valores aislados fuera de ese rango."
   ]
  },
  {
   "cell_type": "markdown",
   "metadata": {},
   "source": [
    "Ahora procedemos a calcular la moda para identificar los valores que más se repiten."
   ]
  },
  {
   "cell_type": "code",
   "execution_count": 28,
   "metadata": {},
   "outputs": [
    {
     "data": {
      "text/html": [
       "<div>\n",
       "<style scoped>\n",
       "    .dataframe tbody tr th:only-of-type {\n",
       "        vertical-align: middle;\n",
       "    }\n",
       "\n",
       "    .dataframe tbody tr th {\n",
       "        vertical-align: top;\n",
       "    }\n",
       "\n",
       "    .dataframe thead th {\n",
       "        text-align: right;\n",
       "    }\n",
       "</style>\n",
       "<table border=\"1\" class=\"dataframe\">\n",
       "  <thead>\n",
       "    <tr style=\"text-align: right;\">\n",
       "      <th></th>\n",
       "      <th>price</th>\n",
       "      <th>room_type</th>\n",
       "      <th>neighbourhood</th>\n",
       "    </tr>\n",
       "  </thead>\n",
       "  <tbody>\n",
       "    <tr>\n",
       "      <th>0</th>\n",
       "      <td>150</td>\n",
       "      <td>Entire home/apt</td>\n",
       "      <td>Bedford-Stuyvesant</td>\n",
       "    </tr>\n",
       "  </tbody>\n",
       "</table>\n",
       "</div>"
      ],
      "text/plain": [
       "   price        room_type       neighbourhood\n",
       "0    150  Entire home/apt  Bedford-Stuyvesant"
      ]
     },
     "metadata": {},
     "output_type": "display_data"
    }
   ],
   "source": [
    "moda = df[[\"price\", \"room_type\", \"neighbourhood\"]].mode()\n",
    "display(moda)"
   ]
  },
  {
   "cell_type": "markdown",
   "metadata": {},
   "source": [
    "Vemos que el valor que más se repite en 150 euros la noche, y el tipo de habitación es tipo apartamento y el vecindario es Bedford-Stuyvesant."
   ]
  },
  {
   "cell_type": "markdown",
   "metadata": {},
   "source": [
    "Ahora vamos a proceder a calcular la media ponderada para saber si todos los valores tienen el mismo peso para compararlo con la media."
   ]
  },
  {
   "cell_type": "code",
   "execution_count": 29,
   "metadata": {},
   "outputs": [
    {
     "data": {
      "text/plain": [
       "178.77415735589733"
      ]
     },
     "execution_count": 29,
     "metadata": {},
     "output_type": "execute_result"
    }
   ],
   "source": [
    "#Media ponderada de price\n",
    "np.average(df_limpio[\"price\"])"
   ]
  },
  {
   "cell_type": "markdown",
   "metadata": {},
   "source": [
    "La media ponderada es diferente a la media porque hay algunos valores que tienen más peso que otros. Al ser menor, hay algunos precios más bajos con más peso que otros más altos."
   ]
  },
  {
   "cell_type": "markdown",
   "metadata": {},
   "source": [
    "Ahora calculamos los coeficientes de variación para saber la relación entre el tamaño de la media y la desviación de la variable."
   ]
  },
  {
   "cell_type": "code",
   "execution_count": 30,
   "metadata": {},
   "outputs": [
    {
     "data": {
      "text/plain": [
       "price               1.124758\n",
       "availability_365    1.012554\n",
       "dtype: float64"
      ]
     },
     "execution_count": 30,
     "metadata": {},
     "output_type": "execute_result"
    }
   ],
   "source": [
    "#Coeficiente de variación\n",
    "df_limpio[[\"price\", \"availability_365\"]].std() / df_limpio[[\"price\", \"availability_365\"]].mean()"
   ]
  },
  {
   "cell_type": "markdown",
   "metadata": {},
   "source": [
    "Lo valores son muy altos, por lo que hay mucha variabilidad en los datos de las dos columnas."
   ]
  },
  {
   "cell_type": "markdown",
   "metadata": {},
   "source": [
    "Vamos a comprobar si es robusto el análisis que estamos haciendo a través del método len para saber cuántos valores han sido analizados."
   ]
  },
  {
   "cell_type": "code",
   "execution_count": 31,
   "metadata": {},
   "outputs": [
    {
     "data": {
      "text/plain": [
       "42782"
      ]
     },
     "execution_count": 31,
     "metadata": {},
     "output_type": "execute_result"
    }
   ],
   "source": [
    "len(df_limpio[\"price\"])"
   ]
  },
  {
   "cell_type": "markdown",
   "metadata": {},
   "source": [
    "Son bastantes datos como para considerar que este análisis es robusto."
   ]
  },
  {
   "cell_type": "markdown",
   "metadata": {},
   "source": [
    "Ahora vamos a calcular los percentiles para conocer la distribución de los datos."
   ]
  },
  {
   "cell_type": "code",
   "execution_count": 32,
   "metadata": {},
   "outputs": [
    {
     "name": "stdout",
     "output_type": "stream",
     "text": [
      "El primer cuartil es  75.0\n",
      "El tercer cuartil es  200.0\n",
      "El rango intercuarílico es  125.0\n"
     ]
    }
   ],
   "source": [
    "q1,q3 = np.percentile(df_limpio['price'],[25,75])\n",
    "print('El primer cuartil es ',q1)\n",
    "print('El tercer cuartil es ',q3)\n",
    "print('El rango intercuarílico es ',q3-q1)"
   ]
  },
  {
   "cell_type": "code",
   "execution_count": 33,
   "metadata": {},
   "outputs": [
    {
     "name": "stdout",
     "output_type": "stream",
     "text": [
      "El primer cuartil es  0.0\n",
      "El tercer cuartil es  288.0\n",
      "El rango intercuarílico es  288.0\n"
     ]
    }
   ],
   "source": [
    "q1,q3 = np.percentile(df_limpio['availability_365'],[25,75])\n",
    "print('El primer cuartil es ',q1)\n",
    "print('El tercer cuartil es ',q3)\n",
    "print('El rango intercuarílico es ',q3-q1)"
   ]
  },
  {
   "cell_type": "markdown",
   "metadata": {},
   "source": [
    "El primer cuartil representa que el 25% de los datos estan por debajo de ese valor, el tercer cuartil representa que el 75% de los datos estan por debajo de ese valor. El rango intercuartílico es el rango donde se encuentra el 50% de valores del conjunto de datos.\n",
    "Es significativo ver como el 25% de todas las habitaciones no tienen disponibilidad y el 75% de las habitaciones cuestan menos de 200 euros."
   ]
  },
  {
   "cell_type": "markdown",
   "metadata": {},
   "source": [
    "A continuación vamos a crear tres gráficos correspondientes a las columnas que estamos analizando para mostrar los datos analizados."
   ]
  },
  {
   "cell_type": "code",
   "execution_count": 34,
   "metadata": {},
   "outputs": [
    {
     "data": {
      "image/png": "[encoded data removed]",
      "text/plain": [
       "<Figure size 720x360 with 2 Axes>"
      ]
     },
     "metadata": {
      "needs_background": "light"
     },
     "output_type": "display_data"
    }
   ],
   "source": [
    "fig, ax = plt.subplots(1, 2, figsize=(10, 5))\n",
    "\n",
    "\n",
    "ax[0].boxplot(df_limpio['price'])\n",
    "ax[0].set_title('Precios')\n",
    "\n",
    "ax[1].boxplot(df_limpio['availability_365'])\n",
    "ax[1].set_title('Disponibilidad al año');"
   ]
  },
  {
   "cell_type": "markdown",
   "metadata": {},
   "source": [
    "Como vemos, hay muchos outliers en la columna de precio, y la caja corresponde con lo visto anteriormente en los cuartiles. Sin embargo, los datos de disponibilidad no tiene outliers y son muy coherentes ya qu el máximo es 365 dias y el mínimo es 0."
   ]
  },
  {
   "cell_type": "markdown",
   "metadata": {},
   "source": [
    "Ahora vamos a calcular las frecuencias absolutas de una para variable categórica, en este caso room_type."
   ]
  },
  {
   "cell_type": "code",
   "execution_count": 35,
   "metadata": {},
   "outputs": [
    {
     "data": {
      "text/html": [
       "<div>\n",
       "<style scoped>\n",
       "    .dataframe tbody tr th:only-of-type {\n",
       "        vertical-align: middle;\n",
       "    }\n",
       "\n",
       "    .dataframe tbody tr th {\n",
       "        vertical-align: top;\n",
       "    }\n",
       "\n",
       "    .dataframe thead th {\n",
       "        text-align: right;\n",
       "    }\n",
       "</style>\n",
       "<table border=\"1\" class=\"dataframe\">\n",
       "  <thead>\n",
       "    <tr style=\"text-align: right;\">\n",
       "      <th></th>\n",
       "      <th>room_type</th>\n",
       "      <th>id</th>\n",
       "      <th>name</th>\n",
       "      <th>host_id</th>\n",
       "      <th>host_name</th>\n",
       "      <th>neighbourhood_group</th>\n",
       "      <th>neighbourhood</th>\n",
       "      <th>latitude</th>\n",
       "      <th>longitude</th>\n",
       "      <th>price</th>\n",
       "      <th>minimum_nights</th>\n",
       "      <th>number_of_reviews</th>\n",
       "      <th>last_review</th>\n",
       "      <th>reviews_per_month</th>\n",
       "      <th>calculated_host_listings_count</th>\n",
       "      <th>availability_365</th>\n",
       "      <th>number_of_reviews_ltm</th>\n",
       "      <th>license</th>\n",
       "    </tr>\n",
       "  </thead>\n",
       "  <tbody>\n",
       "    <tr>\n",
       "      <th>0</th>\n",
       "      <td>Entire home/apt</td>\n",
       "      <td>24194</td>\n",
       "      <td>24189</td>\n",
       "      <td>24194</td>\n",
       "      <td>24192</td>\n",
       "      <td>24194</td>\n",
       "      <td>24194</td>\n",
       "      <td>24194</td>\n",
       "      <td>24194</td>\n",
       "      <td>24194</td>\n",
       "      <td>24194</td>\n",
       "      <td>24194</td>\n",
       "      <td>19011</td>\n",
       "      <td>19011</td>\n",
       "      <td>24194</td>\n",
       "      <td>24194</td>\n",
       "      <td>24194</td>\n",
       "      <td>1</td>\n",
       "    </tr>\n",
       "    <tr>\n",
       "      <th>1</th>\n",
       "      <td>Hotel room</td>\n",
       "      <td>170</td>\n",
       "      <td>170</td>\n",
       "      <td>170</td>\n",
       "      <td>170</td>\n",
       "      <td>170</td>\n",
       "      <td>170</td>\n",
       "      <td>170</td>\n",
       "      <td>170</td>\n",
       "      <td>170</td>\n",
       "      <td>170</td>\n",
       "      <td>170</td>\n",
       "      <td>137</td>\n",
       "      <td>137</td>\n",
       "      <td>170</td>\n",
       "      <td>170</td>\n",
       "      <td>170</td>\n",
       "      <td>0</td>\n",
       "    </tr>\n",
       "    <tr>\n",
       "      <th>2</th>\n",
       "      <td>Private room</td>\n",
       "      <td>17844</td>\n",
       "      <td>17838</td>\n",
       "      <td>17844</td>\n",
       "      <td>17841</td>\n",
       "      <td>17844</td>\n",
       "      <td>17844</td>\n",
       "      <td>17844</td>\n",
       "      <td>17844</td>\n",
       "      <td>17844</td>\n",
       "      <td>17844</td>\n",
       "      <td>17844</td>\n",
       "      <td>12996</td>\n",
       "      <td>12996</td>\n",
       "      <td>17844</td>\n",
       "      <td>17844</td>\n",
       "      <td>17844</td>\n",
       "      <td>0</td>\n",
       "    </tr>\n",
       "    <tr>\n",
       "      <th>3</th>\n",
       "      <td>Shared room</td>\n",
       "      <td>574</td>\n",
       "      <td>573</td>\n",
       "      <td>574</td>\n",
       "      <td>574</td>\n",
       "      <td>574</td>\n",
       "      <td>574</td>\n",
       "      <td>574</td>\n",
       "      <td>574</td>\n",
       "      <td>574</td>\n",
       "      <td>574</td>\n",
       "      <td>574</td>\n",
       "      <td>411</td>\n",
       "      <td>411</td>\n",
       "      <td>574</td>\n",
       "      <td>574</td>\n",
       "      <td>574</td>\n",
       "      <td>0</td>\n",
       "    </tr>\n",
       "  </tbody>\n",
       "</table>\n",
       "</div>"
      ],
      "text/plain": [
       "         room_type     id   name  host_id  host_name  neighbourhood_group  \\\n",
       "0  Entire home/apt  24194  24189    24194      24192                24194   \n",
       "1       Hotel room    170    170      170        170                  170   \n",
       "2     Private room  17844  17838    17844      17841                17844   \n",
       "3      Shared room    574    573      574        574                  574   \n",
       "\n",
       "   neighbourhood  latitude  longitude  price  minimum_nights  \\\n",
       "0          24194     24194      24194  24194           24194   \n",
       "1            170       170        170    170             170   \n",
       "2          17844     17844      17844  17844           17844   \n",
       "3            574       574        574    574             574   \n",
       "\n",
       "   number_of_reviews  last_review  reviews_per_month  \\\n",
       "0              24194        19011              19011   \n",
       "1                170          137                137   \n",
       "2              17844        12996              12996   \n",
       "3                574          411                411   \n",
       "\n",
       "   calculated_host_listings_count  availability_365  number_of_reviews_ltm  \\\n",
       "0                           24194             24194                  24194   \n",
       "1                             170               170                    170   \n",
       "2                           17844             17844                  17844   \n",
       "3                             574               574                    574   \n",
       "\n",
       "   license  \n",
       "0        1  \n",
       "1        0  \n",
       "2        0  \n",
       "3        0  "
      ]
     },
     "execution_count": 35,
     "metadata": {},
     "output_type": "execute_result"
    }
   ],
   "source": [
    "df_frecuencias = df_limpio.groupby('room_type').count().reset_index()\n",
    "df_frecuencias.head()"
   ]
  },
  {
   "cell_type": "markdown",
   "metadata": {},
   "source": [
    "Realizamos una tabla de contigencia para ver la relación entre dos varaibles categóricas, el tipo de habitación y el vecindario."
   ]
  },
  {
   "cell_type": "code",
   "execution_count": 36,
   "metadata": {},
   "outputs": [
    {
     "data": {
      "text/html": [
       "<div>\n",
       "<style scoped>\n",
       "    .dataframe tbody tr th:only-of-type {\n",
       "        vertical-align: middle;\n",
       "    }\n",
       "\n",
       "    .dataframe tbody tr th {\n",
       "        vertical-align: top;\n",
       "    }\n",
       "\n",
       "    .dataframe thead th {\n",
       "        text-align: right;\n",
       "    }\n",
       "</style>\n",
       "<table border=\"1\" class=\"dataframe\">\n",
       "  <thead>\n",
       "    <tr style=\"text-align: right;\">\n",
       "      <th>neighbourhood_group</th>\n",
       "      <th>Bronx</th>\n",
       "      <th>Brooklyn</th>\n",
       "      <th>Manhattan</th>\n",
       "      <th>Queens</th>\n",
       "      <th>Staten Island</th>\n",
       "    </tr>\n",
       "    <tr>\n",
       "      <th>room_type</th>\n",
       "      <th></th>\n",
       "      <th></th>\n",
       "      <th></th>\n",
       "      <th></th>\n",
       "      <th></th>\n",
       "    </tr>\n",
       "  </thead>\n",
       "  <tbody>\n",
       "    <tr>\n",
       "      <th>Entire home/apt</th>\n",
       "      <td>772</td>\n",
       "      <td>8895</td>\n",
       "      <td>11188</td>\n",
       "      <td>3090</td>\n",
       "      <td>249</td>\n",
       "    </tr>\n",
       "    <tr>\n",
       "      <th>Hotel room</th>\n",
       "      <td>0</td>\n",
       "      <td>5</td>\n",
       "      <td>157</td>\n",
       "      <td>8</td>\n",
       "      <td>0</td>\n",
       "    </tr>\n",
       "    <tr>\n",
       "      <th>Private room</th>\n",
       "      <td>875</td>\n",
       "      <td>7130</td>\n",
       "      <td>5989</td>\n",
       "      <td>3676</td>\n",
       "      <td>174</td>\n",
       "    </tr>\n",
       "    <tr>\n",
       "      <th>Shared room</th>\n",
       "      <td>42</td>\n",
       "      <td>183</td>\n",
       "      <td>212</td>\n",
       "      <td>134</td>\n",
       "      <td>3</td>\n",
       "    </tr>\n",
       "  </tbody>\n",
       "</table>\n",
       "</div>"
      ],
      "text/plain": [
       "neighbourhood_group  Bronx  Brooklyn  Manhattan  Queens  Staten Island\n",
       "room_type                                                             \n",
       "Entire home/apt        772      8895      11188    3090            249\n",
       "Hotel room               0         5        157       8              0\n",
       "Private room           875      7130       5989    3676            174\n",
       "Shared room             42       183        212     134              3"
      ]
     },
     "execution_count": 36,
     "metadata": {},
     "output_type": "execute_result"
    }
   ],
   "source": [
    "pd.crosstab(df_limpio[\"room_type\"], df_limpio[\"neighbourhood_group\"])"
   ]
  },
  {
   "cell_type": "markdown",
   "metadata": {},
   "source": [
    "Vemos que lo que hay más son apartamentos en todos los casos, excepto en Bronx que hay más habitaciones privadas. De lo que menos hay son habitaciones de hotel en la plataforma y habitaciones compartidas."
   ]
  },
  {
   "cell_type": "markdown",
   "metadata": {},
   "source": [
    "Ahora vamos a ver la relación entre dos variables numéricas, el precio y el mínimo de noches."
   ]
  },
  {
   "cell_type": "code",
   "execution_count": 37,
   "metadata": {},
   "outputs": [],
   "source": [
    "correlacion = np.corrcoef(df_limpio['price'], df_limpio['minimum_nights'])"
   ]
  },
  {
   "cell_type": "code",
   "execution_count": 38,
   "metadata": {},
   "outputs": [
    {
     "data": {
      "image/png": "[encoded data removed]",
      "text/plain": [
       "<Figure size 432x288 with 2 Axes>"
      ]
     },
     "metadata": {
      "needs_background": "light"
     },
     "output_type": "display_data"
    }
   ],
   "source": [
    "sns.heatmap(correlacion,cmap='mako',annot=True,vmin=-1,vmax=1);"
   ]
  },
  {
   "cell_type": "markdown",
   "metadata": {},
   "source": [
    "Como vemos, no existe ninguna relación entre esad dos variables, por lo tanto, aunque se esperaba que cuanto mas noches minímas, mas rebaja en el precio, no se aprecia."
   ]
  },
  {
   "cell_type": "code",
   "execution_count": 39,
   "metadata": {},
   "outputs": [
    {
     "data": {
      "image/png": "[encoded data removed]",
      "text/plain": [
       "<Figure size 432x288 with 1 Axes>"
      ]
     },
     "metadata": {
      "needs_background": "light"
     },
     "output_type": "display_data"
    }
   ],
   "source": [
    "sns.scatterplot(x = df_limpio['price'],y =  df_limpio['minimum_nights']);"
   ]
  },
  {
   "cell_type": "markdown",
   "metadata": {},
   "source": [
    "Utilizamos esta gráfica para ver que no hay ninguna relación."
   ]
  },
  {
   "cell_type": "markdown",
   "metadata": {},
   "source": [
    "Ahora vamos a ver cuantas habitaciones hay en cada vecindario."
   ]
  },
  {
   "cell_type": "code",
   "execution_count": 40,
   "metadata": {},
   "outputs": [
    {
     "data": {
      "image/png": "[encoded data removed]",
      "text/plain": [
       "<Figure size 432x288 with 1 Axes>"
      ]
     },
     "metadata": {
      "needs_background": "light"
     },
     "output_type": "display_data"
    }
   ],
   "source": [
    "sns.countplot(x = \"room_type\", data = df_limpio, hue = \"neighbourhood_group\");"
   ]
  },
  {
   "cell_type": "markdown",
   "metadata": {},
   "source": [
    "Hay más habitaciones en Manhattan generalmente y sobretodo apartamentos, despues hay habitaciones privadas y hay muy pocas habitaciones de hotel y habitaciones compartidas."
   ]
  },
  {
   "cell_type": "code",
   "execution_count": 41,
   "metadata": {},
   "outputs": [
    {
     "name": "stderr",
     "output_type": "stream",
     "text": [
      "/Users/monicaserranolorenzo/opt/anaconda3/lib/python3.9/site-packages/seaborn/axisgrid.py:118: UserWarning: The figure layout has changed to tight\n",
      "  self._figure.tight_layout(*args, **kwargs)\n"
     ]
    },
    {
     "data": {
      "image/png": "[encoded data removed]",
      "text/plain": [
       "<Figure size 360x360 with 1 Axes>"
      ]
     },
     "metadata": {
      "needs_background": "light"
     },
     "output_type": "display_data"
    }
   ],
   "source": [
    "sns.catplot(x = \"neighbourhood_group\", y = \"availability_365\", data = df_limpio);"
   ]
  },
  {
   "cell_type": "markdown",
   "metadata": {},
   "source": [
    "En esta gráfica se puede observar la distribucion de la disponibilidad con respecto al vecindario y realmente vemos que en todos los barrios hay habitaciones con diferentes disponibilidades, aunque se esperaría que los vecindarios más turisticos tuvieran menos disponibilidad."
   ]
  },
  {
   "cell_type": "markdown",
   "metadata": {},
   "source": [
    "Por último vamos a ver el precio medio, máximo y mínimo por tipo de habitación."
   ]
  },
  {
   "cell_type": "code",
   "execution_count": 42,
   "metadata": {},
   "outputs": [
    {
     "data": {
      "text/html": [
       "<div>\n",
       "<style scoped>\n",
       "    .dataframe tbody tr th:only-of-type {\n",
       "        vertical-align: middle;\n",
       "    }\n",
       "\n",
       "    .dataframe tbody tr th {\n",
       "        vertical-align: top;\n",
       "    }\n",
       "\n",
       "    .dataframe thead th {\n",
       "        text-align: right;\n",
       "    }\n",
       "</style>\n",
       "<table border=\"1\" class=\"dataframe\">\n",
       "  <thead>\n",
       "    <tr style=\"text-align: right;\">\n",
       "      <th></th>\n",
       "      <th>room_type</th>\n",
       "      <th>mean</th>\n",
       "      <th>max</th>\n",
       "      <th>min</th>\n",
       "    </tr>\n",
       "  </thead>\n",
       "  <tbody>\n",
       "    <tr>\n",
       "      <th>0</th>\n",
       "      <td>Entire home/apt</td>\n",
       "      <td>229.868852</td>\n",
       "      <td>2443</td>\n",
       "      <td>10</td>\n",
       "    </tr>\n",
       "    <tr>\n",
       "      <th>1</th>\n",
       "      <td>Hotel room</td>\n",
       "      <td>359.188235</td>\n",
       "      <td>1592</td>\n",
       "      <td>99</td>\n",
       "    </tr>\n",
       "    <tr>\n",
       "      <th>2</th>\n",
       "      <td>Private room</td>\n",
       "      <td>110.294048</td>\n",
       "      <td>2407</td>\n",
       "      <td>10</td>\n",
       "    </tr>\n",
       "    <tr>\n",
       "      <th>3</th>\n",
       "      <td>Shared room</td>\n",
       "      <td>100.557491</td>\n",
       "      <td>2250</td>\n",
       "      <td>15</td>\n",
       "    </tr>\n",
       "  </tbody>\n",
       "</table>\n",
       "</div>"
      ],
      "text/plain": [
       "         room_type        mean   max  min\n",
       "0  Entire home/apt  229.868852  2443   10\n",
       "1       Hotel room  359.188235  1592   99\n",
       "2     Private room  110.294048  2407   10\n",
       "3      Shared room  100.557491  2250   15"
      ]
     },
     "execution_count": 42,
     "metadata": {},
     "output_type": "execute_result"
    }
   ],
   "source": [
    "df_precio_por_tipo = df_limpio.groupby('room_type')[\"price\"].agg([\"mean\", \"max\", \"min\"]).reset_index()\n",
    "df_precio_por_tipo.head()"
   ]
  },
  {
   "cell_type": "markdown",
   "metadata": {},
   "source": [
    "Como era de esperar el precio medio más alto es de la habiación de hotel, al igual que le precio mínimo. Sin embargo, un dato destacable es que entre los precios máximos, el valor más bajo es el de la habitación de hotel considerablemente de los otras que rondan los 2400 euros, lo cual podemos intuir que serán apartamentos o habitaciones de lujo."
   ]
  }
 ],
 "metadata": {
  "kernelspec": {
   "display_name": "adalabenv",
   "language": "python",
   "name": "python3"
  },
  "language_info": {
   "codemirror_mode": {
    "name": "ipython",
    "version": 3
   },
   "file_extension": ".py",
   "mimetype": "text/x-python",
   "name": "python",
   "nbconvert_exporter": "python",
   "pygments_lexer": "ipython3",
   "version": "3.9.7"
  },
  "orig_nbformat": 4
 },
 "nbformat": 4,
 "nbformat_minor": 2
}
