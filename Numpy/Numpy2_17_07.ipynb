{
 "cells": [
  {
   "cell_type": "markdown",
   "metadata": {},
   "source": [
    "# Numpy II - 17/07"
   ]
  },
  {
   "cell_type": "code",
   "execution_count": 1,
   "metadata": {},
   "outputs": [],
   "source": [
    "import numpy as np\n",
    "import pandas as pd"
   ]
  },
  {
   "cell_type": "markdown",
   "metadata": {},
   "source": [
    "1. Cread un array de dos dimensiones de 5 filas y 3 columnas. Sobre el array creado anteriormente, extraed:\n",
    "   \n",
    "    * El valor de la primera fila y la segunda columna.\n",
    "    * Los valores de la segunda fila y las dos primeras columnas.\n",
    "    * Extraed las filas pares (incluyendo la 0) y todas las columnas.\n",
    "    * Extraed los valores que sean mayores que 0.5.\n",
    "    * Extraed los valores menores que 0.2 o mayores que 0.5"
   ]
  },
  {
   "cell_type": "code",
   "execution_count": 5,
   "metadata": {},
   "outputs": [
    {
     "name": "stdout",
     "output_type": "stream",
     "text": [
      "[[0.27 0.16 0.88]\n",
      " [0.54 0.77 0.85]\n",
      " [0.38 0.34 0.61]\n",
      " [0.64 0.81 0.41]\n",
      " [0.17 0.69 0.41]]\n"
     ]
    }
   ],
   "source": [
    "array1 = np.random.random_sample((5,3)).round(2)\n",
    "print(array1)"
   ]
  },
  {
   "cell_type": "code",
   "execution_count": 6,
   "metadata": {},
   "outputs": [
    {
     "name": "stdout",
     "output_type": "stream",
     "text": [
      "0.16\n",
      "....................\n",
      "[0.54 0.77]\n",
      "....................\n",
      "[[0.27 0.16 0.88]\n",
      " [0.38 0.34 0.61]\n",
      " [0.17 0.69 0.41]]\n",
      "....................\n",
      "[0.88 0.54 0.77 0.85 0.61 0.64 0.81 0.69]\n",
      "....................\n",
      "[0.16 0.88 0.54 0.77 0.85 0.61 0.64 0.81 0.17 0.69]\n"
     ]
    }
   ],
   "source": [
    "print(array1[0,1])\n",
    "print(\"....................\")\n",
    "print(array1[1,:2])\n",
    "print(\"....................\")\n",
    "print(array1[::2,:])\n",
    "print(\"....................\")\n",
    "print(array1[array1 > 0.5])\n",
    "print(\"....................\")\n",
    "cond1 = array1 < 0.2\n",
    "cond2 = array1 > 0.5\n",
    "print(array1[cond1 |cond2])"
   ]
  },
  {
   "cell_type": "markdown",
   "metadata": {},
   "source": [
    "2. Cread dos array de tres dimensiones:\n",
    "   \n",
    "   * El primero de 2 matrices, 5 filas y 3 columnas.\n",
    "   * El segundo de 3 matrices, 2 filas y 5 columnas\n",
    "   * Haced un análisis exploratorio de los array creados. Recordad que en el ejercicio de ayer nos creamos una función para esto.\n",
    "   * Sumad los dos arrays. ¿Podéis? ¿Por qué?\n",
    "   * Para cambiar la forma de un array y poder hacer operaciones entre arrays que tienen distintas formas hemos aprendido dos métodos:\n",
    "       * .reshape()\n",
    "       * .transpose()\n",
    "   * Utiliza estas dos funciones para cambiar la forma de los array y hacer operaciones entre ellos."
   ]
  },
  {
   "cell_type": "code",
   "execution_count": 8,
   "metadata": {},
   "outputs": [
    {
     "name": "stdout",
     "output_type": "stream",
     "text": [
      "[[[88  2 63]\n",
      "  [86 60 32]\n",
      "  [72  0 90]\n",
      "  [34 84 94]\n",
      "  [39 44 31]]\n",
      "\n",
      " [[92  3 92]\n",
      "  [25 70 17]\n",
      "  [82 52 64]\n",
      "  [45  1 99]\n",
      "  [27 95 17]]]\n",
      "..................\n",
      "[[[30 79 24 61 98]\n",
      "  [39 14  9 49 33]]\n",
      "\n",
      " [[39 80 23 27 39]\n",
      "  [24 30 77 28 24]]\n",
      "\n",
      " [[80 25 77 41 66]\n",
      "  [58 69 26 15 29]]]\n"
     ]
    }
   ],
   "source": [
    "array2 = np.random.randint(0,100, (2,5,3))\n",
    "array3 = np.random.randint(0,100, (3,2,5))\n",
    "print(array2)\n",
    "print(\"..................\")\n",
    "print(array3)"
   ]
  },
  {
   "cell_type": "code",
   "execution_count": 9,
   "metadata": {},
   "outputs": [],
   "source": [
    "def propiedades(array):\n",
    "    \"\"\"\n",
    "   Esta función printea en pantalla todas las propiedades del array.\n",
    "  Args: \n",
    "       array(array): el array del cual queremos saber sus propiedades.\n",
    "   Returns: aunque no tiene return, esta printea en pantalla todas las propiedades del array.\n",
    "   \"\"\"\n",
    "    print(\"El tamaño es\", array.size)\n",
    "    print(\"La forma es\", array.shape)\n",
    "    print(\"La dimension es\", array.ndim)\n",
    "    print(\"El tipo de dato es\", array.dtype)"
   ]
  },
  {
   "cell_type": "code",
   "execution_count": 10,
   "metadata": {},
   "outputs": [
    {
     "name": "stdout",
     "output_type": "stream",
     "text": [
      "El tamaño es 30\n",
      "La forma es (2, 5, 3)\n",
      "La dimension es 3\n",
      "El tipo de dato es int64\n"
     ]
    }
   ],
   "source": [
    "propiedades(array2)"
   ]
  },
  {
   "cell_type": "code",
   "execution_count": 11,
   "metadata": {},
   "outputs": [
    {
     "name": "stdout",
     "output_type": "stream",
     "text": [
      "El tamaño es 30\n",
      "La forma es (3, 2, 5)\n",
      "La dimension es 3\n",
      "El tipo de dato es int64\n"
     ]
    }
   ],
   "source": [
    "propiedades(array3)"
   ]
  },
  {
   "cell_type": "code",
   "execution_count": 12,
   "metadata": {},
   "outputs": [
    {
     "ename": "ValueError",
     "evalue": "operands could not be broadcast together with shapes (2,5,3) (3,2,5) ",
     "output_type": "error",
     "traceback": [
      "\u001b[0;31m---------------------------------------------------------------------------\u001b[0m",
      "\u001b[0;31mValueError\u001b[0m                                Traceback (most recent call last)",
      "Cell \u001b[0;32mIn[12], line 1\u001b[0m\n\u001b[0;32m----> 1\u001b[0m array2 \u001b[39m+\u001b[39;49m array3\n",
      "\u001b[0;31mValueError\u001b[0m: operands could not be broadcast together with shapes (2,5,3) (3,2,5) "
     ]
    }
   ],
   "source": [
    "array2 + array3"
   ]
  },
  {
   "cell_type": "markdown",
   "metadata": {},
   "source": [
    "No se pueden sumar estos dos arrays porque tienen distinta forma; tendrían que tener mismo número de elementos, filas y columnas."
   ]
  },
  {
   "cell_type": "code",
   "execution_count": 13,
   "metadata": {},
   "outputs": [],
   "source": [
    "array2_cambiado = np.transpose(array2,(1,2,0))\n",
    "array3_cambiado = np.reshape(array3,(5,3,2))"
   ]
  },
  {
   "cell_type": "code",
   "execution_count": 14,
   "metadata": {},
   "outputs": [
    {
     "data": {
      "text/plain": [
       "array([[[118, 171],\n",
       "        [ 26,  64],\n",
       "        [161, 131]],\n",
       "\n",
       "       [[100,  34],\n",
       "        [109, 103],\n",
       "        [ 71,  97]],\n",
       "\n",
       "       [[ 95, 109],\n",
       "        [ 39,  76],\n",
       "        [120, 141]],\n",
       "\n",
       "       [[ 62,  69],\n",
       "        [164,  26],\n",
       "        [171, 140]],\n",
       "\n",
       "       [[105,  85],\n",
       "        [113, 121],\n",
       "        [ 46,  46]]])"
      ]
     },
     "execution_count": 14,
     "metadata": {},
     "output_type": "execute_result"
    }
   ],
   "source": [
    "array2_cambiado + array3_cambiado"
   ]
  },
  {
   "cell_type": "code",
   "execution_count": 16,
   "metadata": {},
   "outputs": [
    {
     "data": {
      "text/plain": [
       "array([[[ 58,  13],\n",
       "        [-22, -58],\n",
       "        [-35,  53]],\n",
       "\n",
       "       [[ 72,  16],\n",
       "        [ 11,  37],\n",
       "        [ -7, -63]],\n",
       "\n",
       "       [[ 49,  55],\n",
       "        [-39,  28],\n",
       "        [ 60, -13]],\n",
       "\n",
       "       [[  6,  21],\n",
       "        [  4, -24],\n",
       "        [ 17,  58]],\n",
       "\n",
       "       [[-27, -31],\n",
       "        [-25,  69],\n",
       "        [ 16, -12]]])"
      ]
     },
     "execution_count": 16,
     "metadata": {},
     "output_type": "execute_result"
    }
   ],
   "source": [
    "array2_cambiado - array3_cambiado"
   ]
  }
 ],
 "metadata": {
  "kernelspec": {
   "display_name": "adalabenv",
   "language": "python",
   "name": "python3"
  },
  "language_info": {
   "codemirror_mode": {
    "name": "ipython",
    "version": 3
   },
   "file_extension": ".py",
   "mimetype": "text/x-python",
   "name": "python",
   "nbconvert_exporter": "python",
   "pygments_lexer": "ipython3",
   "version": "3.10.11"
  },
  "orig_nbformat": 4
 },
 "nbformat": 4,
 "nbformat_minor": 2
}
