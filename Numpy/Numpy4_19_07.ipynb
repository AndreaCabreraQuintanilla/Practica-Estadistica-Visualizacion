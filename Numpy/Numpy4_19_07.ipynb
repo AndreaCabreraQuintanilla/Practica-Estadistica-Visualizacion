{
 "cells": [
  {
   "cell_type": "markdown",
   "metadata": {},
   "source": [
    "# Numpy IV - 19/07"
   ]
  },
  {
   "cell_type": "code",
   "execution_count": 2,
   "metadata": {},
   "outputs": [],
   "source": [
    "import numpy as np\n",
    "import pandas as pd"
   ]
  },
  {
   "cell_type": "markdown",
   "metadata": {},
   "source": [
    "1. ¿Cómo podemos crear dos arrays de dos dimensiones usando el método random_sample que tengan los mismos valores?"
   ]
  },
  {
   "cell_type": "code",
   "execution_count": 11,
   "metadata": {},
   "outputs": [
    {
     "data": {
      "text/plain": [
       "array([[0.37454012, 0.95071431, 0.73199394, 0.59865848, 0.15601864],\n",
       "       [0.15599452, 0.05808361, 0.86617615, 0.60111501, 0.70807258],\n",
       "       [0.02058449, 0.96990985, 0.83244264, 0.21233911, 0.18182497]])"
      ]
     },
     "execution_count": 11,
     "metadata": {},
     "output_type": "execute_result"
    }
   ],
   "source": [
    "np.random.seed(42)\n",
    "array = np.random.random_sample((3,5))\n",
    "array"
   ]
  },
  {
   "cell_type": "code",
   "execution_count": 12,
   "metadata": {},
   "outputs": [
    {
     "data": {
      "text/plain": [
       "array([[0.37454012, 0.95071431, 0.73199394, 0.59865848, 0.15601864],\n",
       "       [0.15599452, 0.05808361, 0.86617615, 0.60111501, 0.70807258],\n",
       "       [0.02058449, 0.96990985, 0.83244264, 0.21233911, 0.18182497]])"
      ]
     },
     "execution_count": 12,
     "metadata": {},
     "output_type": "execute_result"
    }
   ],
   "source": [
    "np.random.seed(42)\n",
    "array_igual = np.random.random_sample((3,5))\n",
    "array_igual"
   ]
  },
  {
   "cell_type": "markdown",
   "metadata": {},
   "source": [
    "2. Cread los siguientes arrays:\n",
    "   * Un array de tres dimensiones con distribución uniforme de 2 x 3 x 5, con números entre 0 y 10, que no tengan decimales y extrae sus valores únicos almacenándolos en una variable.\n",
    "   * Un array de tres dimensiones con distribución binomial de 2 x 3 x 5, con probabilidad de 0.3 y número de pruebas igual a 10. Igual que antes, extrae sus valores únicos y guarda los datos en una variable."
   ]
  },
  {
   "cell_type": "code",
   "execution_count": 13,
   "metadata": {},
   "outputs": [
    {
     "name": "stdout",
     "output_type": "stream",
     "text": [
      "[[[ 2  3  5  4  3]\n",
      "  [ 6  1  3  4  5]\n",
      "  [ 8  2  5  6  0]]\n",
      "\n",
      " [[ 6  1  0 10 10]\n",
      "  [ 8  3  1  7  4]\n",
      "  [ 1  5  0 10  2]]]\n",
      "[ 0  1  2  3  4  5  6  7  8 10]\n"
     ]
    }
   ],
   "source": [
    "array_uniforme = np.random.uniform(low = 0, high = 11, size = (2,3,5)).astype(int)\n",
    "print(array_uniforme)\n",
    "val_unicos_uniforme = np.unique(array_uniforme)\n",
    "print(val_unicos_uniforme)"
   ]
  },
  {
   "cell_type": "code",
   "execution_count": 14,
   "metadata": {},
   "outputs": [
    {
     "name": "stdout",
     "output_type": "stream",
     "text": [
      "[[[4 2 3 3 2]\n",
      "  [6 4 5 5 3]\n",
      "  [5 1 2 1 2]]\n",
      "\n",
      " [[3 2 4 2 2]\n",
      "  [3 1 4 1 6]\n",
      "  [4 2 0 4 4]]]\n",
      "[0 1 2 3 4 5 6]\n"
     ]
    }
   ],
   "source": [
    "array_binomial = np.random.binomial(10, 0.3, size = (2,3,5))\n",
    "print(array_binomial)\n",
    "val_unicos_binomial = np.unique(array_binomial)\n",
    "print(val_unicos_binomial)"
   ]
  },
  {
   "cell_type": "markdown",
   "metadata": {},
   "source": [
    "3. En esta lección hemos aprendido algunos métodos de teórias de conjuntos. Usando los arrays de elementos únicos obtenidos en el ejercicio anterior realizad las siguientes operaciones:\n",
    "   * Elementos comunes entre los dos arrays\n",
    "   * Unión de los dos arrays\n",
    "   * ¿Qué elementos están en el array derivado de la distribución uniforme y no en los únicos de la distribución binomial? Extrae los valores númericos\n",
    "⚠️ Explicar cada uno de los outputs que os salgan. Que significa cada una de estas operaciones que hemos ido extrayendo?"
   ]
  },
  {
   "cell_type": "code",
   "execution_count": 15,
   "metadata": {},
   "outputs": [
    {
     "data": {
      "text/plain": [
       "array([0, 1, 2, 3, 4, 5, 6])"
      ]
     },
     "execution_count": 15,
     "metadata": {},
     "output_type": "execute_result"
    }
   ],
   "source": [
    "elem_comunes = np.intersect1d(val_unicos_uniforme, val_unicos_binomial)\n",
    "elem_comunes"
   ]
  },
  {
   "cell_type": "code",
   "execution_count": 16,
   "metadata": {},
   "outputs": [
    {
     "data": {
      "text/plain": [
       "array([ 0,  1,  2,  3,  4,  5,  6,  7,  8, 10])"
      ]
     },
     "execution_count": 16,
     "metadata": {},
     "output_type": "execute_result"
    }
   ],
   "source": [
    "elem_union = np.union1d(val_unicos_uniforme, val_unicos_binomial)\n",
    "elem_union"
   ]
  },
  {
   "cell_type": "code",
   "execution_count": 17,
   "metadata": {},
   "outputs": [
    {
     "data": {
      "text/plain": [
       "array([ 7,  8, 10])"
      ]
     },
     "execution_count": 17,
     "metadata": {},
     "output_type": "execute_result"
    }
   ],
   "source": [
    "elem_val_uniforme = np.setdiff1d(val_unicos_uniforme, val_unicos_binomial)\n",
    "elem_val_uniforme"
   ]
  },
  {
   "cell_type": "markdown",
   "metadata": {},
   "source": [
    "En el primer output encontramos todos los valos que tienen en común los dos arrays (val_unicos_uniforme, val_unicos_binomial).\n",
    "En el segundo output vemos de forma ordenada en un array los elementos resultantes de juntar los arrays indicados (val_unicos_uniforme, val_unicos_binomial).\n",
    "En el tercer array observamos los valores únicos que están en el primer array (val_unicos_uniforme) y no en el segundo (val_unicos_binomial)."
   ]
  },
  {
   "cell_type": "markdown",
   "metadata": {},
   "source": [
    "4. Cread dos arrays usando el método random.randint de Numpy con 80 elementos cada uno con números del 1-100, con los siguientes nombres array1 y array2.\n",
    "   * Extraed los valores únicos de cada uno de los arrays y los guardáis en variables en las que se les llame array1 y array2.\n",
    "   * Identificad los elementos presentes en el array1 pero no en el array2 y asiganarlo a una variable que se llame array3.\n",
    "   * Identificad los elementos presentes en el array2 pero no en el array1 y asiganarlo a una variable que se llame array4.\n",
    "   * Identificad los elementos presentes en ambos arrays y asiganarlos a una variable que se llame array5.\n",
    "   * ¿Cuál es la relación que existe entre todos estos arrays? 💡 Pista 💡 Tendréis que usar las longitudes de cada uno de los arrays creados."
   ]
  },
  {
   "cell_type": "code",
   "execution_count": 19,
   "metadata": {},
   "outputs": [
    {
     "name": "stdout",
     "output_type": "stream",
     "text": [
      "[50 23 31 94 42 99  7 16 90 60  2  1 48 12 69 37 32  9 99 19 48 80  3 20\n",
      " 24 54 33 24 75 72 36 38 84 99 89 99 25 93 18 82 66 54 35 80 61 41 33 68\n",
      " 33 14 21 48 20  8  7 67 17 33 48 76 59 86 22 30 38 51 54  8 27 27 98 21\n",
      " 30 97 28 64 97 69 61 48]\n",
      ".............................\n",
      "[19  4 35 64 49 17 44 92 30 93 46  6 99 37 24 93 46 53 95 99 60 97 63 85\n",
      " 32 87 33 67 18 25 95 54 58 67 46 24 32 47 86 23 66 27  2 90 17 33  9 43\n",
      " 48 39 93 42 26 99 50 25 24 13 60  7 57 36 45 20 65  8 16 14 76 87 15 92\n",
      " 98 66 32 87 63 86 51 25]\n"
     ]
    }
   ],
   "source": [
    "array1 = np.random.randint(1,100, (80))\n",
    "print(array1)\n",
    "print(\".............................\")\n",
    "array2 = np.random.randint(1,100, (80))\n",
    "print(array2)"
   ]
  },
  {
   "cell_type": "code",
   "execution_count": 21,
   "metadata": {},
   "outputs": [
    {
     "name": "stdout",
     "output_type": "stream",
     "text": [
      "[ 1  2  3  7  8  9 12 14 16 17 18 19 20 21 22 23 24 25 27 28 30 31 32 33\n",
      " 35 36 37 38 41 42 48 50 51 54 59 60 61 64 66 67 68 69 72 75 76 80 82 84\n",
      " 86 89 90 93 94 97 98 99]\n",
      "----------------\n",
      "[ 1  2  3  7  8  9 12 14 16 17 18 19 20 21 22 23 24 25 27 28 30 31 32 33\n",
      " 35 36 37 38 41 42 48 50 51 54 59 60 61 64 66 67 68 69 72 75 76 80 82 84\n",
      " 86 89 90 93 94 97 98 99]\n"
     ]
    }
   ],
   "source": [
    "val_unicos_array1 = np.unique(array1)\n",
    "print(val_unicos_array1)\n",
    "print(\"----------------\")\n",
    "val_unicos_array2 = np.unique(array1)\n",
    "print(val_unicos_array2)"
   ]
  },
  {
   "cell_type": "code",
   "execution_count": 23,
   "metadata": {},
   "outputs": [
    {
     "name": "stdout",
     "output_type": "stream",
     "text": [
      "[ 1  3 12 21 22 28 31 38 41 59 61 68 69 72 75 80 82 84 89 94]\n"
     ]
    }
   ],
   "source": [
    "array3 = np.setdiff1d(array1, array2)\n",
    "print(array3)"
   ]
  },
  {
   "cell_type": "code",
   "execution_count": 24,
   "metadata": {},
   "outputs": [
    {
     "name": "stdout",
     "output_type": "stream",
     "text": [
      "[ 4  6 13 15 26 39 43 44 45 46 47 49 53 57 58 63 65 85 87 92 95]\n"
     ]
    }
   ],
   "source": [
    "array4 = np.setdiff1d(array2, array1)\n",
    "print(array4)"
   ]
  },
  {
   "cell_type": "code",
   "execution_count": 25,
   "metadata": {},
   "outputs": [
    {
     "name": "stdout",
     "output_type": "stream",
     "text": [
      "[ 2  7  8  9 14 16 17 18 19 20 23 24 25 27 30 32 33 35 36 37 42 48 50 51\n",
      " 54 60 64 66 67 76 86 90 93 97 98 99]\n"
     ]
    }
   ],
   "source": [
    "array5 = np.intersect1d(array1, array2)\n",
    "print(array5)"
   ]
  },
  {
   "cell_type": "code",
   "execution_count": 32,
   "metadata": {},
   "outputs": [
    {
     "name": "stdout",
     "output_type": "stream",
     "text": [
      "Los elementos presentes en ambos arrays son 36\n",
      "Los elementos presentes en el array1 y no en el array2 son 20\n",
      "Los elementos presentes en el array2 y no en el array1 son 21\n",
      "Los elementos repetidos en el array1 son 24\n",
      "Los elementos repetidos en el array2 son 23\n"
     ]
    }
   ],
   "source": [
    "print(\"Los elementos presentes en ambos arrays son\", len(array5))\n",
    "print(\"Los elementos presentes en el array1 y no en el array2 son\", len(array3))\n",
    "print(\"Los elementos presentes en el array2 y no en el array1 son\", len(array4))\n",
    "print(\"Los elementos repetidos en el array1 son\", len(array1) - len(array3) - len(array5))\n",
    "print(\"Los elementos repetidos en el array2 son\", len(array2) - len(array4) - len(array5))"
   ]
  },
  {
   "cell_type": "code",
   "execution_count": 34,
   "metadata": {},
   "outputs": [
    {
     "data": {
      "text/plain": [
       "True"
      ]
     },
     "execution_count": 34,
     "metadata": {},
     "output_type": "execute_result"
    }
   ],
   "source": [
    "(len(array1) - len(array3) - len(array5)) + len(array3) + len(array5) == (len(array2) - len(array4) - len(array5)) + len(array4) + len(array5)"
   ]
  }
 ],
 "metadata": {
  "kernelspec": {
   "display_name": "adalabenv",
   "language": "python",
   "name": "python3"
  },
  "language_info": {
   "codemirror_mode": {
    "name": "ipython",
    "version": 3
   },
   "file_extension": ".py",
   "mimetype": "text/x-python",
   "name": "python",
   "nbconvert_exporter": "python",
   "pygments_lexer": "ipython3",
   "version": "3.9.7"
  },
  "orig_nbformat": 4
 },
 "nbformat": 4,
 "nbformat_minor": 2
}
