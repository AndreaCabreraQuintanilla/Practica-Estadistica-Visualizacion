{
 "cells": [
  {
   "cell_type": "markdown",
   "metadata": {},
   "source": [
    "# Numpy I - 14/07\n",
    "\n",
    "Happy coding 😀\n",
    "\n",
    "Empezamos nuevo bloque de ejercicios de pair programming de NumPy.\n",
    "\n",
    "En el ejercicio de hoy vamos a empezar a trabajar con NumPy. El objetivo de estos ejericicios es que creeis una serie de arrays, y hagáis una serie de operaciones matemáticas con ellos."
   ]
  },
  {
   "cell_type": "markdown",
   "metadata": {},
   "source": [
    "1. Cread tres arrays: de una, dos y tres dimensiones.\n",
    "Lo podéis hacer usando los métodos de random que hemos aprendido o a través de listas em algunos casos.\n",
    "\n",
    "    📌 Nota\n",
    "\n",
    "   * El array de 2 dimensiones debe ser de 2 filas y 3 columnas\n",
    "\n",
    "   * El array de 3 dimensiones debe ser de 2 matrices, 3 filas y 5 columnas"
   ]
  },
  {
   "cell_type": "code",
   "execution_count": 3,
   "metadata": {},
   "outputs": [],
   "source": [
    "import numpy as np"
   ]
  },
  {
   "cell_type": "code",
   "execution_count": 5,
   "metadata": {},
   "outputs": [
    {
     "name": "stdout",
     "output_type": "stream",
     "text": [
      "[0 3 6 9]\n",
      "[[14 80 55]\n",
      " [85 20 26]]\n",
      "[[[60 93 23 71  6]\n",
      "  [ 4 63  2 91 36]\n",
      "  [11 45 66 50 32]]\n",
      "\n",
      " [[54 60 79 43 47]\n",
      "  [33 35  0 16 11]\n",
      "  [81 37 60 35 46]]]\n"
     ]
    }
   ],
   "source": [
    "# unidimensional\n",
    "a1 = np.arange(0,10,3)\n",
    "print(a1)\n",
    "\n",
    "#bidimensional\n",
    "a2 = np.random.randint(0,100, (2,3))\n",
    "print(a2)\n",
    "\n",
    "#tridimensional\n",
    "a3 = np.random.randint(0,100, (2,3,5))\n",
    "print(a3)"
   ]
  },
  {
   "cell_type": "markdown",
   "metadata": {},
   "source": [
    "2. Chequed las propiedades básicas de cada array que os hayáis creado. Usad en una función que nos devuelva las propiedades de una array que le pasemos."
   ]
  },
  {
   "cell_type": "code",
   "execution_count": 6,
   "metadata": {},
   "outputs": [],
   "source": [
    "def propiedades(array):\n",
    "    \"\"\"\n",
    "   Esta función printea en pantalla todas las propiedades del array.\n",
    "  Args: \n",
    "       array(array): el array del cual queremos saber sus propiedades.\n",
    "   Returns: aunque no tiene return, esta printea en pantalla todas las propiedades del array.\n",
    "   \"\"\"\n",
    "    print(\"El tamaño es\", array.size)\n",
    "    print(\"La forma es\", array.shape)\n",
    "    print(\"El número de dimensiones es de\", array.ndim)\n",
    "    print(\"El tipo de dato es\", array.dtype)\n",
    "\n",
    "    "
   ]
  },
  {
   "cell_type": "code",
   "execution_count": 7,
   "metadata": {},
   "outputs": [
    {
     "name": "stdout",
     "output_type": "stream",
     "text": [
      "El tamaño es 4\n",
      "La forma es (4,)\n",
      "El número de dimensiones es de 1\n",
      "El tipo de dato es int64\n"
     ]
    }
   ],
   "source": [
    "propiedades (a1)"
   ]
  },
  {
   "cell_type": "code",
   "execution_count": 8,
   "metadata": {},
   "outputs": [
    {
     "name": "stdout",
     "output_type": "stream",
     "text": [
      "El tamaño es 6\n",
      "La forma es (2, 3)\n",
      "El número de dimensiones es de 2\n",
      "El tipo de dato es int64\n"
     ]
    }
   ],
   "source": [
    "propiedades (a2)"
   ]
  },
  {
   "cell_type": "code",
   "execution_count": 9,
   "metadata": {},
   "outputs": [
    {
     "name": "stdout",
     "output_type": "stream",
     "text": [
      "El tamaño es 30\n",
      "La forma es (2, 3, 5)\n",
      "El número de dimensiones es de 3\n",
      "El tipo de dato es int64\n"
     ]
    }
   ],
   "source": [
    "propiedades (a3)"
   ]
  },
  {
   "cell_type": "markdown",
   "metadata": {},
   "source": [
    "3. Cread una matriz identidad de dos dimensiones de 3 filas y 3 columnas"
   ]
  },
  {
   "cell_type": "code",
   "execution_count": 10,
   "metadata": {},
   "outputs": [
    {
     "data": {
      "text/plain": [
       "array([[1., 0., 0.],\n",
       "       [0., 1., 0.],\n",
       "       [0., 0., 1.]])"
      ]
     },
     "execution_count": 10,
     "metadata": {},
     "output_type": "execute_result"
    }
   ],
   "source": [
    "a4 =np.identity(3)\n",
    "a4"
   ]
  },
  {
   "cell_type": "markdown",
   "metadata": {},
   "source": [
    "4. Cread una matriz de tres dimensiones de unos igual a la martiz de tres dimensiones creada en el primer ejercicio."
   ]
  },
  {
   "cell_type": "code",
   "execution_count": 12,
   "metadata": {},
   "outputs": [
    {
     "data": {
      "text/plain": [
       "array([[[1, 1, 1, 1, 1],\n",
       "        [1, 1, 1, 1, 1],\n",
       "        [1, 1, 1, 1, 1]],\n",
       "\n",
       "       [[1, 1, 1, 1, 1],\n",
       "        [1, 1, 1, 1, 1],\n",
       "        [1, 1, 1, 1, 1]]])"
      ]
     },
     "execution_count": 12,
     "metadata": {},
     "output_type": "execute_result"
    }
   ],
   "source": [
    "a5 = np.ones_like(a3)\n",
    "a5"
   ]
  },
  {
   "cell_type": "markdown",
   "metadata": {},
   "source": [
    "5. Es el momento de hacer algunas operaciones entre arrays\n",
    "* ¿Se puede sumar el array de dos dimensiones que creamos en el primer ejecicios a la matriz identidad? ¿Por qué?\n",
    "* En caso de que no se puedan sumar, busca una solución para sumar una matriz identidad a otra. La solución puede ser crear un array nuevo.\n",
    "* Multiplicad la matriz identidad por la nueva matriz que os creasteis en el ejercicio anterior.\n",
    "* Dividid las dos matrices"
   ]
  },
  {
   "cell_type": "code",
   "execution_count": 13,
   "metadata": {},
   "outputs": [
    {
     "ename": "ValueError",
     "evalue": "operands could not be broadcast together with shapes (2,3) (3,3) ",
     "output_type": "error",
     "traceback": [
      "\u001b[0;31m---------------------------------------------------------------------------\u001b[0m",
      "\u001b[0;31mValueError\u001b[0m                                Traceback (most recent call last)",
      "Cell \u001b[0;32mIn[13], line 1\u001b[0m\n\u001b[0;32m----> 1\u001b[0m a2 \u001b[39m+\u001b[39;49m a4\n",
      "\u001b[0;31mValueError\u001b[0m: operands could not be broadcast together with shapes (2,3) (3,3) "
     ]
    }
   ],
   "source": [
    "a2 + a4"
   ]
  },
  {
   "cell_type": "markdown",
   "metadata": {},
   "source": [
    "No se puede porque no tiene las mismas filas y columnas."
   ]
  },
  {
   "cell_type": "code",
   "execution_count": 19,
   "metadata": {},
   "outputs": [
    {
     "data": {
      "text/plain": [
       "array([[90, 34, 19],\n",
       "       [20, 69, 32],\n",
       "       [74, 41, 66]])"
      ]
     },
     "execution_count": 19,
     "metadata": {},
     "output_type": "execute_result"
    }
   ],
   "source": [
    "a6 = np.random.randint(0,100, (3,3))\n",
    "a6"
   ]
  },
  {
   "cell_type": "code",
   "execution_count": 21,
   "metadata": {},
   "outputs": [
    {
     "data": {
      "text/plain": [
       "array([[91., 34., 19.],\n",
       "       [20., 70., 32.],\n",
       "       [74., 41., 67.]])"
      ]
     },
     "execution_count": 21,
     "metadata": {},
     "output_type": "execute_result"
    }
   ],
   "source": [
    "a6 + a4"
   ]
  },
  {
   "cell_type": "code",
   "execution_count": 23,
   "metadata": {},
   "outputs": [
    {
     "data": {
      "text/plain": [
       "array([[91., 34., 19.],\n",
       "       [20., 70., 32.],\n",
       "       [74., 41., 67.]])"
      ]
     },
     "execution_count": 23,
     "metadata": {},
     "output_type": "execute_result"
    }
   ],
   "source": [
    "np.add(a4,a6)"
   ]
  },
  {
   "cell_type": "code",
   "execution_count": 20,
   "metadata": {},
   "outputs": [
    {
     "data": {
      "text/plain": [
       "array([[90.,  0.,  0.],\n",
       "       [ 0., 69.,  0.],\n",
       "       [ 0.,  0., 66.]])"
      ]
     },
     "execution_count": 20,
     "metadata": {},
     "output_type": "execute_result"
    }
   ],
   "source": [
    "a6 * a4"
   ]
  },
  {
   "cell_type": "code",
   "execution_count": 24,
   "metadata": {},
   "outputs": [
    {
     "data": {
      "text/plain": [
       "array([[90.,  0.,  0.],\n",
       "       [ 0., 69.,  0.],\n",
       "       [ 0.,  0., 66.]])"
      ]
     },
     "execution_count": 24,
     "metadata": {},
     "output_type": "execute_result"
    }
   ],
   "source": [
    "np.multiply(a4,a6)"
   ]
  },
  {
   "cell_type": "code",
   "execution_count": 22,
   "metadata": {},
   "outputs": [
    {
     "data": {
      "text/plain": [
       "array([[0.01111111, 0.        , 0.        ],\n",
       "       [0.        , 0.01449275, 0.        ],\n",
       "       [0.        , 0.        , 0.01515152]])"
      ]
     },
     "execution_count": 22,
     "metadata": {},
     "output_type": "execute_result"
    }
   ],
   "source": [
    "a4 / a6"
   ]
  },
  {
   "cell_type": "code",
   "execution_count": 26,
   "metadata": {},
   "outputs": [
    {
     "data": {
      "text/plain": [
       "array([[0.01111111, 0.        , 0.        ],\n",
       "       [0.        , 0.01449275, 0.        ],\n",
       "       [0.        , 0.        , 0.01515152]])"
      ]
     },
     "execution_count": 26,
     "metadata": {},
     "output_type": "execute_result"
    }
   ],
   "source": [
    "np.divide(a4,a6)"
   ]
  }
 ],
 "metadata": {
  "kernelspec": {
   "display_name": "adalabenv",
   "language": "python",
   "name": "python3"
  },
  "language_info": {
   "codemirror_mode": {
    "name": "ipython",
    "version": 3
   },
   "file_extension": ".py",
   "mimetype": "text/x-python",
   "name": "python",
   "nbconvert_exporter": "python",
   "pygments_lexer": "ipython3",
   "version": "3.10.11"
  },
  "orig_nbformat": 4
 },
 "nbformat": 4,
 "nbformat_minor": 2
}
