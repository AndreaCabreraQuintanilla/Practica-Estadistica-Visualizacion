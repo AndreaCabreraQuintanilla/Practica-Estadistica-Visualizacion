{
 "cells": [
  {
   "cell_type": "markdown",
   "metadata": {},
   "source": [
    "# Numpy III - 18/07"
   ]
  },
  {
   "cell_type": "code",
   "execution_count": 1,
   "metadata": {},
   "outputs": [],
   "source": [
    "import numpy as np\n",
    "import pandas as pd"
   ]
  },
  {
   "cell_type": "markdown",
   "metadata": {},
   "source": [
    "1. Cread un array de tres dimensiones de 2 matrices, 3 filas y 5 columnas cuyos valores solo tengan 1 decimales. Sobre el array creado anteriormente, extraed:"
   ]
  },
  {
   "cell_type": "code",
   "execution_count": 3,
   "metadata": {},
   "outputs": [
    {
     "name": "stdout",
     "output_type": "stream",
     "text": [
      "[[[0.4 0.2 0.3 0.3 0.4]\n",
      "  [0.6 0.1 0.8 0.2 0.4]\n",
      "  [0.6 0.6 0.8 0.3 0. ]]\n",
      "\n",
      " [[0.3 0.4 0.7 0.8 0.6]\n",
      "  [0.4 0.2 0.5 0.4 0.2]\n",
      "  [0.  0.6 0.5 0.7 0.8]]]\n"
     ]
    }
   ],
   "source": [
    "array = np.random.rand(2,3,5).round(1)\n",
    "print(array)"
   ]
  },
  {
   "cell_type": "markdown",
   "metadata": {},
   "source": [
    "2. Calculad la media del array y almacenarlos en una variable. Redondead a un decimal."
   ]
  },
  {
   "cell_type": "code",
   "execution_count": 5,
   "metadata": {},
   "outputs": [
    {
     "data": {
      "text/plain": [
       "0.4"
      ]
     },
     "execution_count": 5,
     "metadata": {},
     "output_type": "execute_result"
    }
   ],
   "source": [
    "media = np.mean(array).round(1)\n",
    "media"
   ]
  },
  {
   "cell_type": "markdown",
   "metadata": {},
   "source": [
    "3. Calculad el valor máximo del array y almacenarlos en una variable. Redondead a un decimal."
   ]
  },
  {
   "cell_type": "code",
   "execution_count": 6,
   "metadata": {},
   "outputs": [
    {
     "data": {
      "text/plain": [
       "0.8"
      ]
     },
     "execution_count": 6,
     "metadata": {},
     "output_type": "execute_result"
    }
   ],
   "source": [
    "maximo = np.max(array).round(1)\n",
    "maximo"
   ]
  },
  {
   "cell_type": "markdown",
   "metadata": {},
   "source": [
    "4. Calculad el valor mínimo del array y almacenarlos en una variable. Redondead a un decimal."
   ]
  },
  {
   "cell_type": "code",
   "execution_count": 7,
   "metadata": {},
   "outputs": [
    {
     "data": {
      "text/plain": [
       "0.0"
      ]
     },
     "execution_count": 7,
     "metadata": {},
     "output_type": "execute_result"
    }
   ],
   "source": [
    "minimo = np.min(array).round(1)\n",
    "minimo"
   ]
  },
  {
   "cell_type": "markdown",
   "metadata": {},
   "source": [
    "5. Cread un array vacío con la misma forma y dimensiones que el array creado anteriormente.\n",
    "Vamos a reemplazar los valores de la matriz vacía que nos acabamos de crear pero basándonos en los valores del primer array bajo las siguientes condiciones:\n",
    "    * Si el valor del array es igual que la media, se reemplaza por \"A\"."
   ]
  },
  {
   "cell_type": "markdown",
   "metadata": {},
   "source": [
    "    * Si el valor del array es mayor que la media, se reemplaza por \"B\"."
   ]
  },
  {
   "cell_type": "markdown",
   "metadata": {},
   "source": [
    "    * Si el valor del array es menor que la media, se reemplaza por \"C\"."
   ]
  },
  {
   "cell_type": "markdown",
   "metadata": {},
   "source": [
    "    * Si el valor es igual que el máximo, se reemplaza por \"D\"."
   ]
  },
  {
   "cell_type": "markdown",
   "metadata": {},
   "source": [
    "    * Si el valor es igual que el mínimo, se reemplaza por \"E\"."
   ]
  },
  {
   "cell_type": "code",
   "execution_count": 9,
   "metadata": {},
   "outputs": [
    {
     "data": {
      "text/plain": [
       "array([[['', '', '', '', ''],\n",
       "        ['', '', '', '', ''],\n",
       "        ['', '', '', '', '']],\n",
       "\n",
       "       [['', '', '', '', ''],\n",
       "        ['', '', '', '', ''],\n",
       "        ['', '', '', '', '']]], dtype='<U1')"
      ]
     },
     "execution_count": 9,
     "metadata": {},
     "output_type": "execute_result"
    }
   ],
   "source": [
    "array_vacio = np.empty_like(array, dtype =str)\n",
    "array_vacio"
   ]
  },
  {
   "cell_type": "code",
   "execution_count": 10,
   "metadata": {},
   "outputs": [
    {
     "data": {
      "text/plain": [
       "(2, 3, 5)"
      ]
     },
     "execution_count": 10,
     "metadata": {},
     "output_type": "execute_result"
    }
   ],
   "source": [
    "array.shape"
   ]
  },
  {
   "cell_type": "code",
   "execution_count": 11,
   "metadata": {},
   "outputs": [
    {
     "data": {
      "text/plain": [
       "2"
      ]
     },
     "execution_count": 11,
     "metadata": {},
     "output_type": "execute_result"
    }
   ],
   "source": [
    "array.shape[0]"
   ]
  },
  {
   "cell_type": "code",
   "execution_count": 17,
   "metadata": {},
   "outputs": [
    {
     "name": "stdout",
     "output_type": "stream",
     "text": [
      "[[['A' 'C' 'C' 'C' 'A']\n",
      "  ['B' 'C' 'B' 'C' 'A']\n",
      "  ['B' 'B' 'B' 'C' 'C']]\n",
      "\n",
      " [['C' 'A' 'B' 'B' 'B']\n",
      "  ['A' 'C' 'B' 'A' 'C']\n",
      "  ['C' 'B' 'B' 'B' 'B']]]\n"
     ]
    }
   ],
   "source": [
    "for x in range(array.shape[0]):\n",
    "  \n",
    "    for y in range(array.shape[1]):\n",
    "    \n",
    "        for z in range(array.shape[2]):\n",
    "          \n",
    "            if array[x,y,z] == media:\n",
    "                array_vacio[x,y,z] = \"A\"\n",
    "            elif array[x,y,z] > media:\n",
    "                array_vacio[x,y,z] = \"B\"\n",
    "            elif array[x,y,z] < media:\n",
    "                array_vacio[x,y,z] = \"C\"\n",
    "            elif array[x,y,z] == maximo:\n",
    "                array_vacio[x,y,z] = \"D\"\n",
    "            elif array[x,y,z] == minimo:\n",
    "                array_vacio[x,y,z] = \"E\"\n",
    "\n",
    "print(array_vacio)"
   ]
  },
  {
   "cell_type": "markdown",
   "metadata": {},
   "source": [
    "6. Estupendo, tenemos un array con strings. Ahora realizaremos un ejercicio similar al anterior, pero en este caso nos crearemos un array vacío unidimensional de 30 elementos. Al final de este ejercicio acabaremos teniendo un array de tres dimensiones con la misma forma que el primero que nos creamos.\n",
    "En este caso:\n",
    "   * Si el valor del array creado en el ejercicio anterior es \"A\" o \"B\" lo reemplazaremos por 1"
   ]
  },
  {
   "cell_type": "markdown",
   "metadata": {},
   "source": [
    "    * Si el valor del array creado en el ejercicio anterior es \"C\" o \"D\" lo reemplazaremos por 2"
   ]
  },
  {
   "cell_type": "markdown",
   "metadata": {},
   "source": [
    "    * Si el valor del array creado en el ejercicio anterior es \"E\" lo reemplazaremos por 3."
   ]
  },
  {
   "cell_type": "code",
   "execution_count": 19,
   "metadata": {},
   "outputs": [
    {
     "name": "stdout",
     "output_type": "stream",
     "text": [
      "[4600877379321698714 4596373779694328218 4599075939470750515\n",
      " 4599075939470750515 4600877379321698714 4603579539098121011\n",
      " 4591870180066957722 4605380978949069210 4596373779694328218\n",
      " 4600877379321698714 4603579539098121011 4603579539098121011\n",
      " 4605380978949069210 4599075939470750515                   0\n",
      " 4599075939470750515 4600877379321698714 4604480259023595110\n",
      " 4605380978949069210 4603579539098121011 4600877379321698714\n",
      " 4596373779694328218 4602678819172646912 4600877379321698714\n",
      " 4596373779694328218                   0 4603579539098121011\n",
      " 4602678819172646912 4604480259023595110 4605380978949069210]\n"
     ]
    }
   ],
   "source": [
    "array_vacio2 = np.empty((30), dtype = int)\n",
    "print(array_vacio2)"
   ]
  },
  {
   "cell_type": "code",
   "execution_count": 20,
   "metadata": {},
   "outputs": [
    {
     "name": "stdout",
     "output_type": "stream",
     "text": [
      "[[[1 2 2 2 1]\n",
      "  [1 2 1 2 1]\n",
      "  [1 1 1 2 2]]\n",
      "\n",
      " [[2 1 1 1 1]\n",
      "  [1 2 1 1 2]\n",
      "  [2 1 1 1 1]]]\n"
     ]
    }
   ],
   "source": [
    "indice = 0 \n",
    "\n",
    "for x in range(array_vacio.shape[0]):\n",
    "  \n",
    "    for y in range(array_vacio.shape[1]):\n",
    "    \n",
    "        for z in range(array_vacio.shape[2]):\n",
    "          \n",
    "            if array_vacio[x,y,z] == \"A\" or array_vacio[x,y,z] == \"B\":\n",
    "                array_vacio2[indice] = 1\n",
    "                indice +=1\n",
    "            elif array_vacio[x,y,z] == \"C\" or array_vacio[x,y,z] == \"D\":\n",
    "                array_vacio2[indice] = 2\n",
    "                indice +=1\n",
    "            elif array_vacio[x,y,z] == \"E\":\n",
    "                array_vacio2[indice] = 3\n",
    "                indice +=1\n",
    "\n",
    "array_final = array_vacio2.reshape(2,3,5)\n",
    "print(array_final)\n",
    "            "
   ]
  },
  {
   "cell_type": "code",
   "execution_count": 21,
   "metadata": {},
   "outputs": [
    {
     "name": "stdout",
     "output_type": "stream",
     "text": [
      "[       60573056               0 140714277207216 140715330938608\n",
      " 140714277204080 140715330938672 140714277192688 140715330938608\n",
      " 140714277202288 140715330938672 140714277196720 140715331771248\n",
      " 140715330938608 140715331771184 140714277204400 140715330938672\n",
      " 140714277195568 140715330938608 140714277196272 140715330938672\n",
      " 140714277193200 140715330938608 140714277207088 140715330938672\n",
      " 140714277194096 140715330938608 140714277194992 140715330938672\n",
      " 140714277207280 140715330938608]\n"
     ]
    }
   ],
   "source": [
    "# Otra forma:\n",
    "array_vacio3 = np.empty((30), dtype = int)\n",
    "print(array_vacio3)"
   ]
  },
  {
   "cell_type": "code",
   "execution_count": 22,
   "metadata": {},
   "outputs": [
    {
     "name": "stdout",
     "output_type": "stream",
     "text": [
      "[[[1 2 2 2 1]\n",
      "  [1 2 1 2 1]\n",
      "  [1 1 1 2 2]]\n",
      "\n",
      " [[2 1 1 1 1]\n",
      "  [1 2 1 1 2]\n",
      "  [2 1 1 1 1]]]\n"
     ]
    }
   ],
   "source": [
    "indice = 0 \n",
    "\n",
    "for subarray in array_vacio:\n",
    "    for fila in subarray:\n",
    "        for elemento in fila:\n",
    "            if elemento == \"A\" or elemento == \"B\":\n",
    "                array_vacio3[indice] = 1\n",
    "                indice +=1\n",
    "            elif elemento == \"C\" or elemento == \"D\":\n",
    "                array_vacio3[indice] = 2\n",
    "                indice +=1\n",
    "            elif elemento == \"E\":\n",
    "                array_vacio3[indice] = 3\n",
    "                indice +=1\n",
    "\n",
    "array_final2 = array_vacio3.reshape(2,3,5)\n",
    "print(array_final2)"
   ]
  }
 ],
 "metadata": {
  "kernelspec": {
   "display_name": "adalabenv",
   "language": "python",
   "name": "python3"
  },
  "language_info": {
   "codemirror_mode": {
    "name": "ipython",
    "version": 3
   },
   "file_extension": ".py",
   "mimetype": "text/x-python",
   "name": "python",
   "nbconvert_exporter": "python",
   "pygments_lexer": "ipython3",
   "version": "3.10.11"
  },
  "orig_nbformat": 4
 },
 "nbformat": 4,
 "nbformat_minor": 2
}
