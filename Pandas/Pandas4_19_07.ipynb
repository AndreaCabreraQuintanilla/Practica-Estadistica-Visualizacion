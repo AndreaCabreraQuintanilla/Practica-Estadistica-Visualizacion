{
 "cells": [
  {
   "cell_type": "code",
   "execution_count": 2,
   "metadata": {},
   "outputs": [],
   "source": [
    "import pandas as pd\n",
    "import numpy as np"
   ]
  },
  {
   "cell_type": "markdown",
   "metadata": {},
   "source": [
    "# Pandas IV - 19/07"
   ]
  },
  {
   "cell_type": "markdown",
   "metadata": {},
   "source": [
    "1. Cargad el csv que guardasteis ayer.\n",
    "Antes de seguir con las preguntas, para evitar posibles errores con los nulos vamos a eliminar todos los nulos del DataFrame, esto lo haremos sobre el archivo de 2016.xlsx. Para ello vamos a utilizar el método .dropna() de Pandas. Tendréis que ejecutar la siguiente línea de código para eliminar los nulos del DataFrame y poder seguir haciendo el resto de los ejercicios.\n",
    "\"\"\"\n",
    "df.dropna(inplace = True)\n",
    "\"\"\"\n",
    "¿Cuántas filas se han eliminado con esta línea de código?"
   ]
  },
  {
   "cell_type": "code",
   "execution_count": 5,
   "metadata": {},
   "outputs": [
    {
     "name": "stdout",
     "output_type": "stream",
     "text": [
      "Las filas eliminadas son 112\n"
     ]
    }
   ],
   "source": [
    "df = pd.read_csv(\"data/tickets_pair3.csv\")\n",
    "a = len(df)\n",
    "df.dropna(inplace = True)\n",
    "b = len(df)\n",
    "print(\"Las filas eliminadas son\", a - b)"
   ]
  },
  {
   "cell_type": "code",
   "execution_count": 6,
   "metadata": {},
   "outputs": [
    {
     "data": {
      "text/html": [
       "<div>\n",
       "<style scoped>\n",
       "    .dataframe tbody tr th:only-of-type {\n",
       "        vertical-align: middle;\n",
       "    }\n",
       "\n",
       "    .dataframe tbody tr th {\n",
       "        vertical-align: top;\n",
       "    }\n",
       "\n",
       "    .dataframe thead th {\n",
       "        text-align: right;\n",
       "    }\n",
       "</style>\n",
       "<table border=\"1\" class=\"dataframe\">\n",
       "  <thead>\n",
       "    <tr style=\"text-align: right;\">\n",
       "      <th></th>\n",
       "      <th>id_ticket</th>\n",
       "      <th>fecha</th>\n",
       "      <th>id_empleado</th>\n",
       "      <th>id_agente</th>\n",
       "      <th>categoría</th>\n",
       "      <th>tipo</th>\n",
       "      <th>severidad</th>\n",
       "      <th>prioridad</th>\n",
       "      <th>días_resolución</th>\n",
       "      <th>satisfacción</th>\n",
       "    </tr>\n",
       "  </thead>\n",
       "  <tbody>\n",
       "    <tr>\n",
       "      <th>0</th>\n",
       "      <td>GDDENR-5042564453</td>\n",
       "      <td>2016-07-13</td>\n",
       "      <td>1735.0</td>\n",
       "      <td>4.0</td>\n",
       "      <td>Acceso&amp;%Login</td>\n",
       "      <td>Problema</td>\n",
       "      <td>0 - Sin Clasificar</td>\n",
       "      <td>0 - Sin Asignar</td>\n",
       "      <td>0.0</td>\n",
       "      <td>5.0</td>\n",
       "    </tr>\n",
       "    <tr>\n",
       "      <th>1</th>\n",
       "      <td>GDDENR-8042508060</td>\n",
       "      <td>2016-05-18</td>\n",
       "      <td>1566.0</td>\n",
       "      <td>10.0</td>\n",
       "      <td>Acceso&amp;%Login</td>\n",
       "      <td>Problema</td>\n",
       "      <td>0 - Sin Clasificar</td>\n",
       "      <td>0 - Sin Asignar</td>\n",
       "      <td>0.0</td>\n",
       "      <td>5.0</td>\n",
       "    </tr>\n",
       "    <tr>\n",
       "      <th>2</th>\n",
       "      <td>GDDESR-1342539995</td>\n",
       "      <td>2016-06-18</td>\n",
       "      <td>569.0</td>\n",
       "      <td>29.0</td>\n",
       "      <td>Sistema</td>\n",
       "      <td>Problema</td>\n",
       "      <td>0 - Sin Clasificar</td>\n",
       "      <td>0 - Sin Asignar</td>\n",
       "      <td>3.0</td>\n",
       "      <td>5.0</td>\n",
       "    </tr>\n",
       "    <tr>\n",
       "      <th>3</th>\n",
       "      <td>GDDTSR-5942488006</td>\n",
       "      <td>2016-04-28</td>\n",
       "      <td>320.0</td>\n",
       "      <td>40.0</td>\n",
       "      <td>Sistema</td>\n",
       "      <td>Solicitud</td>\n",
       "      <td>0 - Sin Clasificar</td>\n",
       "      <td>0 - Sin Asignar</td>\n",
       "      <td>9.0</td>\n",
       "      <td>5.0</td>\n",
       "    </tr>\n",
       "    <tr>\n",
       "      <th>4</th>\n",
       "      <td>GDLEER-0042524120</td>\n",
       "      <td>2016-06-03</td>\n",
       "      <td>1842.0</td>\n",
       "      <td>31.0</td>\n",
       "      <td>Software</td>\n",
       "      <td>Problema</td>\n",
       "      <td>2 - Normal</td>\n",
       "      <td>0 - Sin Asignar</td>\n",
       "      <td>0.0</td>\n",
       "      <td>5.0</td>\n",
       "    </tr>\n",
       "  </tbody>\n",
       "</table>\n",
       "</div>"
      ],
      "text/plain": [
       "           id_ticket       fecha  id_empleado  id_agente      categoría  \\\n",
       "0  GDDENR-5042564453  2016-07-13       1735.0        4.0  Acceso&%Login   \n",
       "1  GDDENR-8042508060  2016-05-18       1566.0       10.0  Acceso&%Login   \n",
       "2  GDDESR-1342539995  2016-06-18        569.0       29.0        Sistema   \n",
       "3  GDDTSR-5942488006  2016-04-28        320.0       40.0        Sistema   \n",
       "4  GDLEER-0042524120  2016-06-03       1842.0       31.0       Software   \n",
       "\n",
       "        tipo           severidad        prioridad  días_resolución  \\\n",
       "0   Problema  0 - Sin Clasificar  0 - Sin Asignar              0.0   \n",
       "1   Problema  0 - Sin Clasificar  0 - Sin Asignar              0.0   \n",
       "2   Problema  0 - Sin Clasificar  0 - Sin Asignar              3.0   \n",
       "3  Solicitud  0 - Sin Clasificar  0 - Sin Asignar              9.0   \n",
       "4   Problema          2 - Normal  0 - Sin Asignar              0.0   \n",
       "\n",
       "   satisfacción  \n",
       "0           5.0  \n",
       "1           5.0  \n",
       "2           5.0  \n",
       "3           5.0  \n",
       "4           5.0  "
      ]
     },
     "execution_count": 6,
     "metadata": {},
     "output_type": "execute_result"
    }
   ],
   "source": [
    "df.head()"
   ]
  },
  {
   "cell_type": "markdown",
   "metadata": {},
   "source": [
    "2. ¿Cuál es el número de incidencias que se han dado de tipo \"Sistema\", lo encontraréis en la columna de categoría?"
   ]
  },
  {
   "cell_type": "code",
   "execution_count": 7,
   "metadata": {},
   "outputs": [
    {
     "data": {
      "text/plain": [
       "5211"
      ]
     },
     "execution_count": 7,
     "metadata": {},
     "output_type": "execute_result"
    }
   ],
   "source": [
    "df_sistema = df[df[\"categoría\"] == \"Sistema\"]\n",
    "len(df_sistema)"
   ]
  },
  {
   "cell_type": "markdown",
   "metadata": {},
   "source": [
    "3. ¿Y para la categorías de \"Hardware\" y \"Software\"? Cread un dataframe nuevo con los resultados de este filtrado de datos.\n",
    "📌 Nota Este ejercicio se puede resolver usando dos condiciones de filtrado o usando el método isin(). Hacedlo con ambas herramientas.\n",
    "3.1 De los datos filtrados en el punto 3. ¿Cuántas de ellas son de tipo \"Solicitud\" y cuántas de tipo \"Problema\"?\n",
    "3.2 ¿Cuántas solicitudes tienen una satisfacción de más de 3?\n",
    "3.3 ¿Y cuántas tienen una satisfacción mayor o igual que 4 y han tardado menos de 3 días de resolución?"
   ]
  },
  {
   "cell_type": "code",
   "execution_count": 8,
   "metadata": {},
   "outputs": [
    {
     "data": {
      "text/plain": [
       "3846"
      ]
     },
     "execution_count": 8,
     "metadata": {},
     "output_type": "execute_result"
    }
   ],
   "source": [
    "cond1 = df[\"categoría\"] == \"Hardware\"\n",
    "cond2 = df[\"categoría\"] == \"Software\"\n",
    "df_software_hardware = df[cond1|cond2]\n",
    "len(df_software_hardware)"
   ]
  },
  {
   "cell_type": "code",
   "execution_count": 9,
   "metadata": {},
   "outputs": [
    {
     "data": {
      "text/plain": [
       "3846"
      ]
     },
     "execution_count": 9,
     "metadata": {},
     "output_type": "execute_result"
    }
   ],
   "source": [
    "df_software_hardware2 = df[df[\"categoría\"].isin([\"Hardware\", \"Software\"])]\n",
    "len(df_software_hardware2)"
   ]
  },
  {
   "cell_type": "code",
   "execution_count": 10,
   "metadata": {},
   "outputs": [
    {
     "data": {
      "text/plain": [
       "970"
      ]
     },
     "execution_count": 10,
     "metadata": {},
     "output_type": "execute_result"
    }
   ],
   "source": [
    "df_problema = df_software_hardware[df_software_hardware[\"tipo\"] == \"Problema\"]\n",
    "len(df_problema)"
   ]
  },
  {
   "cell_type": "code",
   "execution_count": 11,
   "metadata": {},
   "outputs": [
    {
     "data": {
      "text/plain": [
       "2876"
      ]
     },
     "execution_count": 11,
     "metadata": {},
     "output_type": "execute_result"
    }
   ],
   "source": [
    "df_solicitud = df_software_hardware[df_software_hardware[\"tipo\"] == \"Solicitud\"]\n",
    "len(df_solicitud)"
   ]
  },
  {
   "cell_type": "code",
   "execution_count": 12,
   "metadata": {},
   "outputs": [
    {
     "data": {
      "text/plain": [
       "2251"
      ]
     },
     "execution_count": 12,
     "metadata": {},
     "output_type": "execute_result"
    }
   ],
   "source": [
    "df_satisfaccion3 = df_solicitud[df_solicitud[\"satisfacción\"] > 3]\n",
    "len(df_satisfaccion3)"
   ]
  },
  {
   "cell_type": "code",
   "execution_count": 14,
   "metadata": {},
   "outputs": [
    {
     "data": {
      "text/plain": [
       "285"
      ]
     },
     "execution_count": 14,
     "metadata": {},
     "output_type": "execute_result"
    }
   ],
   "source": [
    "cond_1 = df_solicitud[\"satisfacción\"] >= 4\n",
    "cond_2 = df_solicitud[\"días_resolución\"] < 3\n",
    "df_satisfaccion4 = df_solicitud[cond_1 & cond_2]\n",
    "len(df_satisfaccion4)"
   ]
  },
  {
   "cell_type": "markdown",
   "metadata": {},
   "source": [
    "4. Ahora nuestro jefe quiere saber que cantidad de tickets ha habido en la segunda quincena de Enero. Cread un DataFrame nuevo con los tickets correspondientes a la segunda quincena de Enero.\n",
    "4.1 ¿Ha habido algún ticket en esta quincena que corresponda a la categoría de \"Solicitud\"?\n",
    "4.2 Revisando los datos, nuestro jefe se ha dado cuenta que hay muchos tickets que no tienen ninguna prioridad asignada. Esto no debería seguir repitiéndose ya que cada ticket debe tener una prioridad para saber que urgencia debemos darle a cada ticket. Usando el str.contains extraed los tickets que no tengan una prioridad asignada o que tengan una prioridad baja."
   ]
  },
  {
   "cell_type": "code",
   "execution_count": 16,
   "metadata": {},
   "outputs": [
    {
     "data": {
      "text/plain": [
       "552"
      ]
     },
     "execution_count": 16,
     "metadata": {},
     "output_type": "execute_result"
    }
   ],
   "source": [
    "df[\"fecha\"] = pd.to_datetime(df[\"fecha\"])\n",
    "df_quincena = df[(df[\"fecha\"].dt.month == 1) & (df[\"fecha\"].dt.day > 15)]\n",
    "len(df_quincena)"
   ]
  },
  {
   "cell_type": "code",
   "execution_count": 17,
   "metadata": {},
   "outputs": [
    {
     "data": {
      "text/plain": [
       "419"
      ]
     },
     "execution_count": 17,
     "metadata": {},
     "output_type": "execute_result"
    }
   ],
   "source": [
    "df_quincena_solicitud = df_quincena[df_quincena[\"tipo\"] == \"Solicitud\"]\n",
    "len(df_quincena_solicitud)"
   ]
  },
  {
   "cell_type": "code",
   "execution_count": 19,
   "metadata": {},
   "outputs": [
    {
     "data": {
      "text/plain": [
       "191"
      ]
     },
     "execution_count": 19,
     "metadata": {},
     "output_type": "execute_result"
    }
   ],
   "source": [
    "sin_prioridad = df_quincena_solicitud[\"prioridad\"].str.contains(\"0\", case = False, regex = False)\n",
    "poca_prioridad = df_quincena_solicitud[\"prioridad\"].str.contains(\"1\", case = False, regex = False)\n",
    "df_prioridades = df_quincena_solicitud[sin_prioridad | poca_prioridad]\n",
    "len(df_prioridades)"
   ]
  },
  {
   "cell_type": "markdown",
   "metadata": {},
   "source": [
    "5. Nuestro jefe quiere seguir buscando patrones y quiere saber si existe una relación entre el número de días que tarda en cerrarse un ticket y la satisfacción de los clientes. Para eso nos pide que:\n",
    "5.1 Extraigamos los tickets en lo que pasaron 5 o más días en ser solucionados.\n",
    "5.2 Extraigamos los tickets en los que pasaron menos de 5 días en ser solucionados.\n",
    "5.3 Usando como referencia los dos conjuntos de datos creados en los dos pasos anteriores:\n",
    "¿Qué valores tenemos de satisfacción en cada uno de ellos?\n",
    "¿En cuál de ellos hay más puntuaciones de 5 en relación a la satisfacción?"
   ]
  },
  {
   "cell_type": "code",
   "execution_count": 20,
   "metadata": {},
   "outputs": [
    {
     "data": {
      "text/plain": [
       "4876"
      ]
     },
     "execution_count": 20,
     "metadata": {},
     "output_type": "execute_result"
    }
   ],
   "source": [
    "df_mas_cinco_dias = df[df[\"días_resolución\"] > 5]\n",
    "len(df_mas_cinco_dias)"
   ]
  },
  {
   "cell_type": "code",
   "execution_count": 21,
   "metadata": {},
   "outputs": [
    {
     "data": {
      "text/plain": [
       "6889"
      ]
     },
     "execution_count": 21,
     "metadata": {},
     "output_type": "execute_result"
    }
   ],
   "source": [
    "df_menos_cinco_dias = df[df[\"días_resolución\"] < 5]\n",
    "len(df_menos_cinco_dias)"
   ]
  },
  {
   "cell_type": "code",
   "execution_count": 22,
   "metadata": {},
   "outputs": [
    {
     "data": {
      "text/plain": [
       "satisfacción\n",
       "5.0    2306\n",
       "4.0    1489\n",
       "1.0     580\n",
       "3.0     409\n",
       "2.0      92\n",
       "Name: count, dtype: int64"
      ]
     },
     "execution_count": 22,
     "metadata": {},
     "output_type": "execute_result"
    }
   ],
   "source": [
    "df_mas_cinco_dias.satisfacción.value_counts()"
   ]
  },
  {
   "cell_type": "code",
   "execution_count": 23,
   "metadata": {},
   "outputs": [
    {
     "data": {
      "text/plain": [
       "satisfacción\n",
       "5.0    3320\n",
       "4.0    1937\n",
       "1.0     869\n",
       "3.0     596\n",
       "2.0     167\n",
       "Name: count, dtype: int64"
      ]
     },
     "execution_count": 23,
     "metadata": {},
     "output_type": "execute_result"
    }
   ],
   "source": [
    "df_menos_cinco_dias.satisfacción.value_counts()"
   ]
  },
  {
   "cell_type": "markdown",
   "metadata": {},
   "source": [
    "6. Revisando los dataframes generados en el ejercicio anterior, nos hemos dado cuenta que hay una serie de empleados que tardan demasiado en resolver los problemas planteados por los clientes. Nuestro jefe quiere extraer los datos de estos empleados en concreto para saber que esta pasando. En concreto estos empleados son aquellos que tienen los siguientes id's: 1118.0, 730.0, 97.0, 1745.0. Crea un dataframe donde solo tengamos la información de estos empleados. Usad el método isin(), para resolver este ejercicio."
   ]
  },
  {
   "cell_type": "code",
   "execution_count": 24,
   "metadata": {},
   "outputs": [
    {
     "data": {
      "text/html": [
       "<div>\n",
       "<style scoped>\n",
       "    .dataframe tbody tr th:only-of-type {\n",
       "        vertical-align: middle;\n",
       "    }\n",
       "\n",
       "    .dataframe tbody tr th {\n",
       "        vertical-align: top;\n",
       "    }\n",
       "\n",
       "    .dataframe thead th {\n",
       "        text-align: right;\n",
       "    }\n",
       "</style>\n",
       "<table border=\"1\" class=\"dataframe\">\n",
       "  <thead>\n",
       "    <tr style=\"text-align: right;\">\n",
       "      <th></th>\n",
       "      <th>id_ticket</th>\n",
       "      <th>fecha</th>\n",
       "      <th>id_empleado</th>\n",
       "      <th>id_agente</th>\n",
       "      <th>categoría</th>\n",
       "      <th>tipo</th>\n",
       "      <th>severidad</th>\n",
       "      <th>prioridad</th>\n",
       "      <th>días_resolución</th>\n",
       "      <th>satisfacción</th>\n",
       "    </tr>\n",
       "  </thead>\n",
       "  <tbody>\n",
       "    <tr>\n",
       "      <th>261</th>\n",
       "      <td>GDLTER-1042574687</td>\n",
       "      <td>2016-07-23</td>\n",
       "      <td>1118.0</td>\n",
       "      <td>26.0</td>\n",
       "      <td>Software</td>\n",
       "      <td>Solicitud</td>\n",
       "      <td>2 - Normal</td>\n",
       "      <td>0 - Sin Asignar</td>\n",
       "      <td>10.0</td>\n",
       "      <td>5.0</td>\n",
       "    </tr>\n",
       "    <tr>\n",
       "      <th>410</th>\n",
       "      <td>GDLTER-8542577885</td>\n",
       "      <td>2016-07-26</td>\n",
       "      <td>1118.0</td>\n",
       "      <td>8.0</td>\n",
       "      <td>Hardware</td>\n",
       "      <td>Solicitud</td>\n",
       "      <td>2 - Normal</td>\n",
       "      <td>0 - Sin Asignar</td>\n",
       "      <td>15.0</td>\n",
       "      <td>5.0</td>\n",
       "    </tr>\n",
       "    <tr>\n",
       "      <th>718</th>\n",
       "      <td>GDLTSR-0342448482</td>\n",
       "      <td>2016-03-19</td>\n",
       "      <td>1118.0</td>\n",
       "      <td>24.0</td>\n",
       "      <td>Sistema</td>\n",
       "      <td>Solicitud</td>\n",
       "      <td>2 - Normal</td>\n",
       "      <td>0 - Sin Asignar</td>\n",
       "      <td>13.0</td>\n",
       "      <td>5.0</td>\n",
       "    </tr>\n",
       "    <tr>\n",
       "      <th>907</th>\n",
       "      <td>GDLTSR-8042389076</td>\n",
       "      <td>2016-01-20</td>\n",
       "      <td>97.0</td>\n",
       "      <td>30.0</td>\n",
       "      <td>Sistema</td>\n",
       "      <td>Solicitud</td>\n",
       "      <td>2 - Normal</td>\n",
       "      <td>0 - Sin Asignar</td>\n",
       "      <td>10.0</td>\n",
       "      <td>5.0</td>\n",
       "    </tr>\n",
       "    <tr>\n",
       "      <th>1792</th>\n",
       "      <td>GHLTNR-4042383675</td>\n",
       "      <td>2016-01-14</td>\n",
       "      <td>97.0</td>\n",
       "      <td>16.0</td>\n",
       "      <td>Acceso&amp;%Login</td>\n",
       "      <td>Solicitud</td>\n",
       "      <td>2 - Normal</td>\n",
       "      <td>3 - Alta</td>\n",
       "      <td>0.0</td>\n",
       "      <td>5.0</td>\n",
       "    </tr>\n",
       "  </tbody>\n",
       "</table>\n",
       "</div>"
      ],
      "text/plain": [
       "              id_ticket      fecha  id_empleado  id_agente      categoría  \\\n",
       "261   GDLTER-1042574687 2016-07-23       1118.0       26.0       Software   \n",
       "410   GDLTER-8542577885 2016-07-26       1118.0        8.0       Hardware   \n",
       "718   GDLTSR-0342448482 2016-03-19       1118.0       24.0        Sistema   \n",
       "907   GDLTSR-8042389076 2016-01-20         97.0       30.0        Sistema   \n",
       "1792  GHLTNR-4042383675 2016-01-14         97.0       16.0  Acceso&%Login   \n",
       "\n",
       "           tipo   severidad        prioridad  días_resolución  satisfacción  \n",
       "261   Solicitud  2 - Normal  0 - Sin Asignar             10.0           5.0  \n",
       "410   Solicitud  2 - Normal  0 - Sin Asignar             15.0           5.0  \n",
       "718   Solicitud  2 - Normal  0 - Sin Asignar             13.0           5.0  \n",
       "907   Solicitud  2 - Normal  0 - Sin Asignar             10.0           5.0  \n",
       "1792  Solicitud  2 - Normal         3 - Alta              0.0           5.0  "
      ]
     },
     "execution_count": 24,
     "metadata": {},
     "output_type": "execute_result"
    }
   ],
   "source": [
    "df_empleados = df[df[\"id_empleado\"].isin([1118.0, 730.0, 97.0, 1745.0])]\n",
    "df_empleados.head()"
   ]
  },
  {
   "cell_type": "markdown",
   "metadata": {},
   "source": [
    "7. Utilizando la columna de fecha cread una nueva columna llamada semestre que contenga 1er semestre o 2º semestre. Aquellos tickets que pertenezcan a los seis primeros meses tendran el valor de \"1er trismestre\" y los tickets de julio en adelante tendrán el valor de \"2º semestre\"."
   ]
  },
  {
   "cell_type": "code",
   "execution_count": 26,
   "metadata": {},
   "outputs": [
    {
     "data": {
      "text/html": [
       "<div>\n",
       "<style scoped>\n",
       "    .dataframe tbody tr th:only-of-type {\n",
       "        vertical-align: middle;\n",
       "    }\n",
       "\n",
       "    .dataframe tbody tr th {\n",
       "        vertical-align: top;\n",
       "    }\n",
       "\n",
       "    .dataframe thead th {\n",
       "        text-align: right;\n",
       "    }\n",
       "</style>\n",
       "<table border=\"1\" class=\"dataframe\">\n",
       "  <thead>\n",
       "    <tr style=\"text-align: right;\">\n",
       "      <th></th>\n",
       "      <th>id_ticket</th>\n",
       "      <th>fecha</th>\n",
       "      <th>id_empleado</th>\n",
       "      <th>id_agente</th>\n",
       "      <th>categoría</th>\n",
       "      <th>tipo</th>\n",
       "      <th>severidad</th>\n",
       "      <th>prioridad</th>\n",
       "      <th>días_resolución</th>\n",
       "      <th>satisfacción</th>\n",
       "      <th>trimestre</th>\n",
       "    </tr>\n",
       "  </thead>\n",
       "  <tbody>\n",
       "    <tr>\n",
       "      <th>0</th>\n",
       "      <td>GDDENR-5042564453</td>\n",
       "      <td>2016-07-13</td>\n",
       "      <td>1735.0</td>\n",
       "      <td>4.0</td>\n",
       "      <td>Acceso&amp;%Login</td>\n",
       "      <td>Problema</td>\n",
       "      <td>0 - Sin Clasificar</td>\n",
       "      <td>0 - Sin Asignar</td>\n",
       "      <td>0.0</td>\n",
       "      <td>5.0</td>\n",
       "      <td>2º semestre</td>\n",
       "    </tr>\n",
       "    <tr>\n",
       "      <th>1</th>\n",
       "      <td>GDDENR-8042508060</td>\n",
       "      <td>2016-05-18</td>\n",
       "      <td>1566.0</td>\n",
       "      <td>10.0</td>\n",
       "      <td>Acceso&amp;%Login</td>\n",
       "      <td>Problema</td>\n",
       "      <td>0 - Sin Clasificar</td>\n",
       "      <td>0 - Sin Asignar</td>\n",
       "      <td>0.0</td>\n",
       "      <td>5.0</td>\n",
       "      <td>1er semestre</td>\n",
       "    </tr>\n",
       "    <tr>\n",
       "      <th>2</th>\n",
       "      <td>GDDESR-1342539995</td>\n",
       "      <td>2016-06-18</td>\n",
       "      <td>569.0</td>\n",
       "      <td>29.0</td>\n",
       "      <td>Sistema</td>\n",
       "      <td>Problema</td>\n",
       "      <td>0 - Sin Clasificar</td>\n",
       "      <td>0 - Sin Asignar</td>\n",
       "      <td>3.0</td>\n",
       "      <td>5.0</td>\n",
       "      <td>1er semestre</td>\n",
       "    </tr>\n",
       "    <tr>\n",
       "      <th>3</th>\n",
       "      <td>GDDTSR-5942488006</td>\n",
       "      <td>2016-04-28</td>\n",
       "      <td>320.0</td>\n",
       "      <td>40.0</td>\n",
       "      <td>Sistema</td>\n",
       "      <td>Solicitud</td>\n",
       "      <td>0 - Sin Clasificar</td>\n",
       "      <td>0 - Sin Asignar</td>\n",
       "      <td>9.0</td>\n",
       "      <td>5.0</td>\n",
       "      <td>1er semestre</td>\n",
       "    </tr>\n",
       "    <tr>\n",
       "      <th>4</th>\n",
       "      <td>GDLEER-0042524120</td>\n",
       "      <td>2016-06-03</td>\n",
       "      <td>1842.0</td>\n",
       "      <td>31.0</td>\n",
       "      <td>Software</td>\n",
       "      <td>Problema</td>\n",
       "      <td>2 - Normal</td>\n",
       "      <td>0 - Sin Asignar</td>\n",
       "      <td>0.0</td>\n",
       "      <td>5.0</td>\n",
       "      <td>1er semestre</td>\n",
       "    </tr>\n",
       "  </tbody>\n",
       "</table>\n",
       "</div>"
      ],
      "text/plain": [
       "           id_ticket      fecha  id_empleado  id_agente      categoría  \\\n",
       "0  GDDENR-5042564453 2016-07-13       1735.0        4.0  Acceso&%Login   \n",
       "1  GDDENR-8042508060 2016-05-18       1566.0       10.0  Acceso&%Login   \n",
       "2  GDDESR-1342539995 2016-06-18        569.0       29.0        Sistema   \n",
       "3  GDDTSR-5942488006 2016-04-28        320.0       40.0        Sistema   \n",
       "4  GDLEER-0042524120 2016-06-03       1842.0       31.0       Software   \n",
       "\n",
       "        tipo           severidad        prioridad  días_resolución  \\\n",
       "0   Problema  0 - Sin Clasificar  0 - Sin Asignar              0.0   \n",
       "1   Problema  0 - Sin Clasificar  0 - Sin Asignar              0.0   \n",
       "2   Problema  0 - Sin Clasificar  0 - Sin Asignar              3.0   \n",
       "3  Solicitud  0 - Sin Clasificar  0 - Sin Asignar              9.0   \n",
       "4   Problema          2 - Normal  0 - Sin Asignar              0.0   \n",
       "\n",
       "   satisfacción     trimestre  \n",
       "0           5.0   2º semestre  \n",
       "1           5.0  1er semestre  \n",
       "2           5.0  1er semestre  \n",
       "3           5.0  1er semestre  \n",
       "4           5.0  1er semestre  "
      ]
     },
     "execution_count": 26,
     "metadata": {},
     "output_type": "execute_result"
    }
   ],
   "source": [
    "df[\"trimestre\"] = np.where(df[\"fecha\"].dt.month <= 6, \"1er semestre\", \"2º semestre\")\n",
    "df.head()"
   ]
  },
  {
   "cell_type": "markdown",
   "metadata": {},
   "source": [
    "8. Guardad como un archivo csv nuevo. Lo usaremos en el pair programming de mañana."
   ]
  },
  {
   "cell_type": "code",
   "execution_count": 27,
   "metadata": {},
   "outputs": [],
   "source": [
    "df.to_csv(\"data/tickets_pair4.csv\")"
   ]
  }
 ],
 "metadata": {
  "kernelspec": {
   "display_name": "adalabenv",
   "language": "python",
   "name": "python3"
  },
  "language_info": {
   "codemirror_mode": {
    "name": "ipython",
    "version": 3
   },
   "file_extension": ".py",
   "mimetype": "text/x-python",
   "name": "python",
   "nbconvert_exporter": "python",
   "pygments_lexer": "ipython3",
   "version": "3.10.11"
  },
  "orig_nbformat": 4
 },
 "nbformat": 4,
 "nbformat_minor": 2
}
